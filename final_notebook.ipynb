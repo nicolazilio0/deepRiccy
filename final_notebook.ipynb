{
  "cells": [
    {
      "attachments": {},
      "cell_type": "markdown",
      "metadata": {
        "id": "YOvgNpY7LwSU"
      },
      "source": [
        "# Deep riccy project\n"
      ]
    },
    {
      "attachments": {},
      "cell_type": "markdown",
      "metadata": {},
      "source": [
        "## Introduction "
      ]
    },
    {
      "attachments": {},
      "cell_type": "markdown",
      "metadata": {},
      "source": [
        "This project focuses on addressing the challenge of **visual grounding**, which involves establishing a connection between language and visual information. Visual grounding is essential for bridging the gap between symbolic language representation and understanding the visual world.\n",
        "\n",
        "This project builds on the [CLIP](https://arxiv.org/abs/2103.00020) paradigm, modifying its approach to enhance performance.\n",
        "\n",
        "Three distinct approaches were explored and combined to achieve optimal results:\n",
        "\n",
        "*  The first approach utilizes natural language processing (NLP) techniques to identify the subject of a sentence and filter out unwanted predictions from [YOLO (You Only Look Once)](https://arxiv.org/pdf/1506.02640.pdf) bounding boxes. This approach, in conjunction with the baseline, forms the initial strategy. First, we filter out the images that do not contain the subject we extracted. Then, we compute the similarities between the remaining images and the caption, and finally we select the result with the highest similarity as the final outcome. \n",
        "\n",
        "\n",
        "* The second approach starts from the CLIP paradigm and replaces the computation of similarity between texts and images, with texts to text. In fact we fine-tuned on RefCOCOg an image captioner model. This image captioner will create a caption for each of the extracted YOLO bounding boxes, but before generating them we will apply our NLP in order to remove the undesired ones. Then we will compute the cosine similarity between the generated captions and the one coming from the dataset, and finally take the best one.\n",
        "\n",
        "* The third approach can be viewed as a \"reverse process\" of the second one. In fact for each caption we generate synthetic images that should represent at best the desired target. Once we obtained the images, we filter out the bounding boxes that are not relevant (as we did in the other approaches), compute the similarity between the bounding boxes and the generated images, and then we select them using a selection process that takes as prediction the \"winner\" of most comparisons.\n",
        "\n",
        "* Finally we combined this approaches all together with the baseline.\n",
        "\n",
        "By exploring these approaches and their combinations, this project aims to advance the field of visual grounding and enable effective language-to-visual connections for improved understanding and interpretation of visual data.\n"
      ]
    },
    {
      "attachments": {},
      "cell_type": "markdown",
      "metadata": {
        "id": "3CzySrjXzHhN"
      },
      "source": [
        "## Environment creation\n"
      ]
    },
    {
      "attachments": {},
      "cell_type": "markdown",
      "metadata": {},
      "source": [
        "This section is dedicated to the creation of the environment. In order to run this notebook this section will guide you through the creation of the environment by installing the dependencies necessary for the execution of the code. Another important aspect for the code to run is to have set the correct paths for the dataset and the weights of the models.\n",
        "In the case that the environment is already set up, you can skip this section and go directly to the next one.\n",
        "If the dataset is not yet unpacked you need to run the commented code in the next cell, otherwise you can skip it. It is commented because it is not necessary to run it every time you run the notebook, but only the first time and it takes time.\n",
        "</br>\n",
        "The dependecies that we install are the following:\n",
        "- diffusers==0.11.1\n",
        "- transformers \n",
        "- scipy \n",
        "- ftfy \n",
        "- accelerate\n",
        "- stanza\n",
        "- all requirements for yolo\n",
        "- all requirements for clip\n",
        "- torchmetrics\n",
        "- datasets\n",
        "- torchvision\n",
        "- datasets"
      ]
    },
    {
      "cell_type": "code",
      "execution_count": null,
      "metadata": {},
      "outputs": [],
      "source": [
        "from google.colab import drive\n",
        "drive.mount('/content/drive', force_remount=True)\n",
        "\n",
        "#this line is necessary if you need to unpack the dataset\n",
        "#! tar -zxf /content/drive/MyDrive/refcocog.tar.gz\n",
        "\n",
        "! pip3 install ftfy regex tqdm --quiet\n",
        "! pip3 install diffusers==0.11.1 --quiet\n",
        "! pip3 install transformers scipy ftfy accelerate --quiet\n",
        "! pip3 install stanza --quiet\n",
        "! pip3 install -qr https://raw.githubusercontent.com/ultralytics/yolov5/master/requirements.txt  --quiet\n",
        "! pip install git+https://github.com/openai/CLIP.git --quiet\n",
        "! pip install torchmetrics --quiet\n",
        "! pip install torchvision --quiet\n",
        "! pip install datasets --quiet\n",
        "\n"
      ]
    },
    {
      "cell_type": "code",
      "execution_count": null,
      "metadata": {},
      "outputs": [],
      "source": [
        "#code tu unzip stable diffusion pre generated images\n",
        "! unzip /content/drive/MyDrive/stable_diffusion2.zip"
      ]
    },
    {
      "cell_type": "code",
      "execution_count": 57,
      "metadata": {
        "colab": {
          "base_uri": "https://localhost:8080/"
        },
        "id": "oiKX4oZgzKLR",
        "outputId": "6ae2e3f5-8b74-44fe-d89e-8d5f29e05e70"
      },
      "outputs": [],
      "source": [
        "#this values needs to change based on where the data is stored\n",
        "\n",
        "local_path = 'refcocog/images/'                #path to the images\n",
        "local_annotations = 'refcocog/annotations/'     #path to the annotations\n",
        "image_captioner_model_path = '/content/drive/MyDrive/Image_Captioning_VIT_Roberta_final_4' #path to the model weight for the image captioning\n",
        "caption_json = '/content/drive/MyDrive/image_captioning_validation.json'   #path to the json file for the captions\n",
        "stable_images_path = \"2/\""
      ]
    },
    {
      "cell_type": "code",
      "execution_count": 20,
      "metadata": {
        "id": "R4ZuKVoVzdFH"
      },
      "outputs": [],
      "source": [
        "import json\n",
        "import pickle\n",
        "import torch\n",
        "from PIL import Image\n",
        "from torch.utils.data import Dataset\n",
        "from torchvision import transforms\n",
        "import matplotlib.pyplot as plt\n",
        "import pandas as pd\n",
        "import clip\n",
        "import numpy as np\n",
        "import torchvision\n",
        "from torchvision import ops\n",
        "import stanza\n",
        "from tqdm import tqdm\n",
        "\n",
        "from transformers import ViTFeatureExtractor, VisionEncoderDecoderModel\n",
        "from transformers import RobertaTokenizerFast\n",
        "\n",
        "#ignore warnings for cleaner output\n",
        "import warnings\n",
        "warnings.filterwarnings(\"ignore\")"
      ]
    },
    {
      "attachments": {},
      "cell_type": "markdown",
      "metadata": {
        "id": "418bIOjizjPc"
      },
      "source": [
        "## Utilities\n"
      ]
    },
    {
      "attachments": {},
      "cell_type": "markdown",
      "metadata": {},
      "source": [
        "This section is dedicated to technical function to clean the code and make it more readable, by not repeting some of the tasks."
      ]
    },
    {
      "cell_type": "code",
      "execution_count": 21,
      "metadata": {},
      "outputs": [],
      "source": [
        "#this function removes closing and opening tags from the captions\n",
        "def clear_caption(caption):\n",
        "    caption = caption.replace('<s>', '')\n",
        "    caption = caption.replace('</s>', '')\n",
        "    return caption"
      ]
    },
    {
      "cell_type": "code",
      "execution_count": 22,
      "metadata": {},
      "outputs": [],
      "source": [
        "#function that given a yolo output returns the cropped image based on the index witch reppresents the jolo bounding box\n",
        "def crop_yolo(yolo_output, img, index):\n",
        "    #conversion to numpy and rounding to get the coordinates\n",
        "    x1 = yolo_output.xyxy[0][index][0].cpu().numpy()\n",
        "    x1 = np.rint(x1)\n",
        "    y1 = yolo_output.xyxy[0][index][1].cpu().numpy()\n",
        "    y1 = np.rint(y1)\n",
        "    x2 = yolo_output.xyxy[0][index][2].cpu().numpy()\n",
        "    x2 = np.rint(x2)\n",
        "    y2 = yolo_output.xyxy[0][index][3].cpu().numpy()\n",
        "    y2 = np.rint(y2)\n",
        "\n",
        "    cropped_img = img.crop((x1, y1, x2, y2))\n",
        "    \n",
        "    return cropped_img"
      ]
    },
    {
      "cell_type": "code",
      "execution_count": 23,
      "metadata": {
        "id": "ExVxvNtacKZS"
      },
      "outputs": [],
      "source": [
        "# remove the id in the image name string\n",
        "def split_string(string):\n",
        "    string = string.split(\"_\")\n",
        "    string = string[:-1]\n",
        "    string = \"_\".join(string)\n",
        "    append = \".jpg\"\n",
        "    string = string + append\n",
        "\n",
        "    return string"
      ]
    },
    {
      "cell_type": "code",
      "execution_count": 24,
      "metadata": {
        "id": "O4rfPXV_zzHz"
      },
      "outputs": [],
      "source": [
        "# convert yolo format bbox into standard type\n",
        "def convert_bbox(bbox, img):\n",
        "    x1, y1, width, height = bbox\n",
        "    x2, y2 = x1 + width, y1 + height\n",
        "\n",
        "    # Verify coordinates\n",
        "    if x1 < 0 or y1 < 0 or x2 > img.width or y2 > img.height:\n",
        "        print(\"Bounding box fuori dai limiti dell'immagine!\")\n",
        "    else:\n",
        "        return x1, y1, x2, y2"
      ]
    },
    {
      "cell_type": "code",
      "execution_count": 25,
      "metadata": {
        "id": "dVAC33cB5OhY"
      },
      "outputs": [],
      "source": [
        "# yolo bbox include class and precision, drop them\n",
        "def convert_yolo_bbox(bbox):\n",
        "    return bbox[:4]"
      ]
    },
    {
      "cell_type": "code",
      "execution_count": 26,
      "metadata": {},
      "outputs": [],
      "source": [
        "#loads from a json file and returns a dataframe\n",
        "def load_dataframe(path):\n",
        "    #load json\n",
        "    with open(path) as json_file:\n",
        "        data = json.load(json_file)\n",
        "        #create dataframe   \n",
        "        df = pd.DataFrame(data)\n",
        "    \n",
        "    return df"
      ]
    },
    {
      "cell_type": "code",
      "execution_count": 27,
      "metadata": {},
      "outputs": [],
      "source": [
        "# given an image pad the image to fit the dimension of clip and fill the padding with the median color of the image\n",
        "def padd_image(img):\n",
        "    # find the average color of the image\n",
        "    avg_color_per_row = np.average(img, axis=0)\n",
        "    avg_color = np.average(avg_color_per_row, axis=0)\n",
        "    old_image_width, old_image_height = img.size\n",
        "\n",
        "    # create new image of desired size and color for padding\n",
        "    if (old_image_height > 224 or old_image_width > 224):\n",
        "        if (old_image_height > old_image_width):\n",
        "            new_image_width = old_image_height\n",
        "            new_image_height = old_image_height\n",
        "\n",
        "        else:\n",
        "            new_image_width = old_image_width\n",
        "            new_image_height = old_image_width\n",
        "\n",
        "        color = avg_color\n",
        "\n",
        "        result = np.full((new_image_height, new_image_width, 3),\n",
        "                         color, dtype=np.uint8)\n",
        "\n",
        "        # compute center offset\n",
        "        x_center = (new_image_width - old_image_width) // 2\n",
        "        y_center = (new_image_height - old_image_height) // 2\n",
        "\n",
        "        # copy img image into center of result image\n",
        "        result[y_center:y_center+old_image_height,\n",
        "               x_center:x_center+old_image_width] = img\n",
        "\n",
        "    else:\n",
        "        new_image_width = 224\n",
        "        new_image_height = 224\n",
        "\n",
        "        color = avg_color\n",
        "        result = np.full((new_image_height, new_image_width, 3),\n",
        "                         color, dtype=np.uint8)\n",
        "        \n",
        "        # compute center offset\n",
        "        x_center = (new_image_width - old_image_width) // 2\n",
        "        y_center = (new_image_height - old_image_height) // 2\n",
        "\n",
        "        # copy img image into center of result image\n",
        "        result[y_center:y_center+old_image_height,\n",
        "               x_center:x_center+old_image_width] = img\n",
        "\n",
        "    img = Image.fromarray(result)\n",
        "    img = img.resize((224, 224))\n",
        "    return img"
      ]
    },
    {
      "cell_type": "code",
      "execution_count": 28,
      "metadata": {
        "id": "S5wPfVu-mkeO"
      },
      "outputs": [],
      "source": [
        "# test model on a number N of images and print metrics each tenth of the images\n",
        "def test_on_n_images(model, dataset, N):\n",
        "    model.reset_metrics()\n",
        "\n",
        "    for i in range(0, N):\n",
        "        input = dataset[i]\n",
        "        image_path = split_string(input[\"file_name\"])\n",
        "        sentence = input[\"sentences\"][\"raw\"]\n",
        "        gt = input[\"bbox\"]\n",
        "        original_img = Image.open(local_path + image_path).convert(\"RGB\")\n",
        "        # print img dimensions and box coordinates\n",
        "        bbox, img = model.evaluate(image_path, sentence, gt, original_img)\n",
        "\n",
        "        if i % (N/10) == 0:\n",
        "            print(\"Iteration: \", i)\n",
        "            print(model.get_metrics())"
      ]
    },
    {
      "cell_type": "code",
      "execution_count": 29,
      "metadata": {
        "id": "T9qGI-Oxq9MQ"
      },
      "outputs": [],
      "source": [
        "# function that validates a model on a given dataframe\n",
        "def validate(model, dataframe):\n",
        "    model.reset_metrics()\n",
        "    for i in tqdm(range(0, len(dataframe))):\n",
        "        input = dataframe.iloc[i]\n",
        "        image_path = split_string(input[\"file_name\"])\n",
        "        sentence = input[\"sentences\"][\"raw\"]\n",
        "        gt = input[\"bbox\"]\n",
        "        original_img = Image.open(local_path + image_path).convert(\"RGB\")\n",
        "        model.evaluate(image_path, sentence, gt, original_img, i)\n",
        "\n",
        "    model.save_metrics()\n",
        "    print(model.get_metrics())"
      ]
    },
    {
      "cell_type": "code",
      "execution_count": 30,
      "metadata": {},
      "outputs": [],
      "source": [
        "# function that tests a model on a given image\n",
        "def test_on_one_image(model, dataframe, index):\n",
        "    model.reset_metrics()\n",
        "\n",
        "    input = dataframe.iloc[index]\n",
        "    image_path = split_string(input[\"file_name\"])\n",
        "    sentence = input[\"sentences\"][\"raw\"]\n",
        "    gt = input[\"bbox\"]\n",
        "\n",
        "    original_img = Image.open(local_path + image_path).convert(\"RGB\")\n",
        "\n",
        "    bbox, _ =model.evaluate(image_path, sentence, gt, original_img, index)\n",
        "    bbox = bbox.cpu().numpy()\n",
        "    #show image with bbox and caption and gound truth\n",
        "    %matplotlib inline\n",
        "    plt.imshow(original_img)\n",
        "\n",
        "    x1, y1, width, height = gt\n",
        "    #draw bounding boxes on image\n",
        "    plt.gca().add_patch(plt.Rectangle((x1, y1), width, height, fill=False, edgecolor='red', linewidth=2))\n",
        "    plt.gca().add_patch(plt.Rectangle((bbox[0], bbox[1]), bbox[2]-bbox[0], bbox[3]-bbox[1], fill=False, edgecolor='blue', linewidth=2))\n",
        "    \n",
        "    print(sentence)\n",
        "    plt.show()\n",
        "\n",
        "    print(model.get_metrics())"
      ]
    },
    {
      "attachments": {},
      "cell_type": "markdown",
      "metadata": {},
      "source": [
        "TODO non so se questo vogliamo mantenerlo ma bisogna fixarlo"
      ]
    },
    {
      "cell_type": "code",
      "execution_count": 31,
      "metadata": {},
      "outputs": [],
      "source": [
        "import random\n",
        "#a function that given a list of models tests on a specific image and shows the results in a plot grid\n",
        "def compare_models(models, dataframe, index):\n",
        "    \n",
        "    input = dataframe.iloc[index]\n",
        "    image_path = split_string(input[\"file_name\"])\n",
        "    sentence = input[\"sentences\"][\"raw\"]\n",
        "    gt = input[\"bbox\"]\n",
        "\n",
        "    bboxes = []\n",
        "\n",
        "    original_img = Image.open(local_path + image_path).convert(\"RGB\")\n",
        "    for model in models:\n",
        "        bbox, _ =model.evaluate(image_path, sentence, gt, original_img)\n",
        "        bbox = bbox.cpu().numpy()\n",
        "        bboxes.append(bbox)\n",
        "    \n",
        "    #add all the bboxes to the plot and show image with label and gound truth\n",
        "    for i in range(0, len(bboxes)):\n",
        "        #rotating colors with random\n",
        "        bbox= bboxes[i]\n",
        "        color = \"#\"+''.join([random.choice('0123456789ABCDEF') for j in range(6)])\n",
        "        plt.gca().add_patch(plt.Rectangle((bbox[0], bbox[1]), bbox[2]-bbox[0], bbox[3]-bbox[1], fill=False, edgecolor=color, linewidth=2))\n",
        "        #add lable for the model\n",
        "        plt.text(bbox[0], bbox[1], models[i].name, fontsize=12, color=color)"
      ]
    },
    {
      "attachments": {},
      "cell_type": "markdown",
      "metadata": {
        "id": "MLRfZYnqz4zD"
      },
      "source": [
        "## Metrics\n"
      ]
    },
    {
      "attachments": {},
      "cell_type": "markdown",
      "metadata": {},
      "source": [
        "### Intersection Over Union\n",
        "Intersection over Union (IoU) is used to evaluate the performance of object detection by comparing the ground truth bounding box to the preddicted bounding box.\n",
        "<img src='https://b2633864.smushcdn.com/2633864/wp-content/uploads/2016/09/iou_equation.png?lossy=1&strip=1&webp=1' style=\"width: 30%\">\n",
        "\n",
        "Examining this equation you can see that Intersection over Union is simply a ratio.\n",
        "In the numerator we compute the area of overlap between the predicted bounding box and the ground-truth bounding box.\n",
        "The denominator is the area of union, or more simply, the area encompassed by both the predicted bounding box and the ground-truth bounding box.\n",
        "Dividing the area of overlap by the area of union yields our final score — the Intersection over Union.\n",
        "\n",
        "### Recall\n",
        "Recall actually calculates how many of the Actual Positives our model capture through labeling it as Positive. For our model we consider classified as positive if the IOU for that prediction is over 0.5\n",
        "$$ Recall = {True Positive \\over True Positive + False Negative} $$\n",
        "\n",
        "\n",
        "### Euclidean Distance\n",
        "\n",
        "\n",
        "Euclidean Distance is a measure of distance and it works on the principle of Pythagoras theorem and signifies the shortest distance between two points.\n",
        "$$ Euclidean Distance = \\sqrt{(x_2-x_1)^2+(y_2-y_1)^2} $$\n",
        "\n",
        "For points in more than two dimensions: \n",
        "\n",
        "$$ Euclidean Distance =  \\sqrt{ \\sum_{i=1}^n  (p_i-q_i)^2} $$\n",
        "\n",
        "Euclidean distance is used in many machine learning algorithms as a default distance metric to measure the similarity between two recorded observations.  Users mostly opt for it to calculate the distance between two rows of data that consists of numerical values.\n",
        "In our specific case it is used to calculate the distance between two images (the groundtruth and our prediction)\n",
        "\n",
        "### Cosine Similarity\n",
        "\n",
        "Cosine similarity is a metric used to measure the similarity of two vectors. Specifically, it measures the similarity in the direction or orientation of the vectors ignoring differences in their magnitude or scale. Both vectors need to be part of the same inner product space, meaning they must produce a scalar through inner product multiplication. The similarity of two vectors is measured by the cosine of the angle between them.\n",
        "\n",
        "$$ Similarity(A,B) =cos(\\theta) ={A * B  \\over ||A||*||B||} $$\n",
        "\n",
        "where $$ \\theta $$  is the angle between the vectors <br>\n",
        " A*B   is dot product between A and B and calculated as: \n",
        "$$ A * B = A^T B = \\sum_{i=1}^n A_i B_i  = A_1 B_1 + A_2 B_2 + ... + A_n B_n $$\n",
        "and ||A|| represents the L2 norm of magnitude of the vector which is calculated as\n",
        "$$ ||A|| = \\sqrt{A_1^2 + A_2^2 + ... + A_n^2} $$"
      ]
    },
    {
      "cell_type": "code",
      "execution_count": null,
      "metadata": {},
      "outputs": [],
      "source": [
        "# definition of recall metric\n",
        "class Recall:\n",
        "    def __init__(self):\n",
        "        self.true_positives = 0\n",
        "        self.false_negatives = 0\n",
        "\n",
        "    def update(self, correct):\n",
        "        if correct:\n",
        "            self.true_positives += 1\n",
        "        else:\n",
        "            self.false_negatives += 1\n",
        "\n",
        "    def compute(self):\n",
        "        return self.true_positives / (self.true_positives + self.false_negatives)\n",
        "\n",
        "    def reset(self):\n",
        "        self.true_positives = 0\n",
        "        self.false_negatives = 0"
      ]
    },
    {
      "cell_type": "code",
      "execution_count": 33,
      "metadata": {
        "id": "yN9vbC82z8CI"
      },
      "outputs": [],
      "source": [
        "class Metrics:\n",
        "    def __init__(self, model, name):\n",
        "        self.name = name\n",
        "        self.treshold = 0.5\n",
        "        self.transform = torchvision.transforms.Compose([\n",
        "            torchvision.transforms.ToTensor(),\n",
        "            torchvision.transforms.Normalize(mean=[0.485, 0.456, 0.406],\n",
        "                                             std=[0.229, 0.224, 0.225])\n",
        "        ])\n",
        "        # initialize torch tensor\n",
        "        self.iou = torch.tensor([]).cuda()\n",
        "        self.recall = Recall()\n",
        "        self.model = model\n",
        "        self.cosine_similarity = torch.tensor([]).cuda()\n",
        "        self.euclidean_distance = torch.tensor([]).cuda()\n",
        "\n",
        "    #method that updates the metrics\n",
        "    def update(self, predicted_bbox, target_bbox, predicted_image, target_image):\n",
        "        predicted_bbox = torch.tensor(predicted_bbox)\n",
        "        target_bbox = torch.tensor(target_bbox)\n",
        "\n",
        "        with torch.no_grad():\n",
        "            # Preprocess the predicted image and compute the predicted embedding\n",
        "            predicted_image = padd_image(predicted_image)\n",
        "            image_tensor = self.transform(predicted_image)\n",
        "            image_tensor = image_tensor.unsqueeze(0).cuda()\n",
        "            predicted_embedding = self.model.encode_image(image_tensor)\n",
        "\n",
        "            # Preprocess the target image and compute the target embedding\n",
        "            target_image = padd_image(target_image)\n",
        "            target_image_tensor = self.transform(target_image)\n",
        "            target_image_tensor = target_image_tensor.unsqueeze(0).cuda()\n",
        "            target_embedding = self.model.encode_image(target_image_tensor)\n",
        "\n",
        "        # compute cosine similarity and euclidean distance\n",
        "        similarity = torch.nn.functional.cosine_similarity(predicted_embedding, target_embedding)\n",
        "        distance = torch.nn.functional.pairwise_distance(predicted_embedding, target_embedding)\n",
        "\n",
        "        # convert bboxes into torch tensors\n",
        "        predicted_bbox = torch.tensor(predicted_bbox)\n",
        "        target_bbox = torch.tensor(target_bbox)\n",
        "\n",
        "        predicted_bbox = convert_yolo_bbox(predicted_bbox)\n",
        "\n",
        "        # compute iou for the specific image\n",
        "        actual_iou = ops.box_iou(predicted_bbox.unsqueeze(0).cuda(), target_bbox.unsqueeze(0).cuda())\n",
        "        self.iou = torch.cat((self.iou, actual_iou), 0)\n",
        "\n",
        "        # update recall based on iou treshold\n",
        "        if actual_iou > self.treshold:\n",
        "            self.recall.update(True)\n",
        "        else:\n",
        "            self.recall.update(False)\n",
        "\n",
        "        # update cosine similarity and euclidean distance\n",
        "        self.cosine_similarity = torch.cat((self.cosine_similarity, similarity), 0)\n",
        "        self.euclidean_distance = torch.cat((self.euclidean_distance, distance), 0)\n",
        "\n",
        "    def to_string(self):\n",
        "        #compute metrics\n",
        "        mean_iou = torch.mean(self.iou)\n",
        "        recall_at_05_iou = self.recall.compute()\n",
        "        mean_cosine_similarity = torch.mean(self.cosine_similarity)\n",
        "        mean_euclidean_distance = torch.mean(self.euclidean_distance)\n",
        "\n",
        "        return f\"Mean IoU: {mean_iou:.4f}, Recall@0.5 IoU: {recall_at_05_iou:.4f}, Mean Cosine Similarity: {mean_cosine_similarity:.4f}, Mean Euclidean Distance: {mean_euclidean_distance:.4f}\"\n",
        "\n",
        "    #method that saves the metrics in csv files\n",
        "    def  save(self):\n",
        "        iou = self.iou.cpu().numpy()\n",
        "        cosine_similarity = self.cosine_similarity.cpu().numpy()\n",
        "        euclidean_distance = self.euclidean_distance.cpu().numpy()\n",
        "\n",
        "        np.savetxt(self.name+\"_iou.csv\", iou, delimiter=\",\")\n",
        "        np.savetxt(self.name+\"_cosine_similarity.csv\", cosine_similarity, delimiter=\",\")\n",
        "        np.savetxt(self.name+\"_euclidean_distance.csv\", euclidean_distance, delimiter=\",\")\n",
        "\n",
        "    def reset(self):\n",
        "        self.iou = torch.tensor([]).cuda()\n",
        "        self.recall.reset()\n",
        "        self.cosine_similarity = torch.tensor([]).cuda()\n",
        "        self.euclidean_distance = torch.tensor([]).cuda()"
      ]
    },
    {
      "attachments": {},
      "cell_type": "markdown",
      "metadata": {
        "id": "Lx39cinC0BJb"
      },
      "source": [
        "## Dataset\n"
      ]
    },
    {
      "attachments": {},
      "cell_type": "markdown",
      "metadata": {},
      "source": [
        "In order to use the given dataset called RefCOCOg consisting of approximately 25,799 images with multiple captions for each image. This dataset does not have an official dataset class already existing so we needed to adapt and create a class that would allow us to use the dataset in the best way possible. The class is the following and allows to load all the data from multiple file, to link the images to the captions and to the bounding boxes using json and .p files. \n",
        "The class we created rely on dataframes witch are a very useful tool in this situations, infact they allow us to easily manipulate the data and to link the images to the captionsby few commands and without the need to iterate over the data. In order for us to proprely use the data we consider the caption as main element, since for one image we have multiple captions."
      ]
    },
    {
      "cell_type": "code",
      "execution_count": 58,
      "metadata": {
        "id": "FjC1bIj90D3I"
      },
      "outputs": [],
      "source": [
        "# dataset class definition\n",
        "class Coco(Dataset):\n",
        "    def __init__(self, path_json, path_pickle, train=True):\n",
        "        self.path_json = path_json\n",
        "        self.path_pickle = path_pickle\n",
        "        self.train = train\n",
        "\n",
        "        # load images and annotations\n",
        "        with open(self.path_json) as json_data:\n",
        "            data = json.load(json_data)\n",
        "            self.ann_frame = pd.DataFrame(data['annotations'])\n",
        "            self.ann_frame = self.ann_frame.reset_index(drop=False)\n",
        "\n",
        "        with open(self.path_pickle, 'rb') as pickle_data:\n",
        "            data = pickle.load(pickle_data)\n",
        "            self.refs_frame = pd.DataFrame(data)\n",
        "\n",
        "        # separate each sentence in dataframe\n",
        "        self.refs_frame = self.refs_frame.explode('sentences')\n",
        "        self.refs_frame = self.refs_frame.reset_index(drop=False)\n",
        "\n",
        "        self.size = self.refs_frame.shape[0]\n",
        "\n",
        "        # merge the dataframes\n",
        "        self.dataset = pd.merge(\n",
        "            self.refs_frame, self.ann_frame, left_on='ann_id', right_on='id')\n",
        "        \n",
        "        # drop useless columns for cleaner and smaller dataset\n",
        "        self.dataset = self.dataset.drop(columns=['segmentation', 'id', 'category_id_y', 'ref_id', 'index_x',\n",
        "                                         'iscrowd', 'image_id_y', 'image_id_x', 'category_id_x', 'ann_id', 'sent_ids', 'index_y', 'area'])\n",
        "\n",
        "    def __len__(self):\n",
        "        return self.size\n",
        "\n",
        "    def __getitem__(self, idx):\n",
        "        return self.dataset.iloc[idx]\n",
        "\n",
        "    def get_annotation(self, idx):\n",
        "        return self.ann_frame.iloc[idx]\n",
        "\n",
        "    def get_imgframe(self, idx):\n",
        "        return self.img_frame.iloc[idx]\n",
        "\n",
        "    def get_validation(self):\n",
        "        return self.dataset[self.dataset['split'] == 'val']\n",
        "\n",
        "    def get_test(self):\n",
        "        return self.dataset[self.dataset['split'] == 'test']\n",
        "\n",
        "    def get_train(self):\n",
        "        return self.dataset[self.dataset['split'] == 'train']"
      ]
    },
    {
      "cell_type": "code",
      "execution_count": 59,
      "metadata": {
        "colab": {
          "base_uri": "https://localhost:8080/"
        },
        "id": "peTMO0l70KRz",
        "outputId": "2a973a17-0e6c-4298-dd3e-c61196a8a6b5"
      },
      "outputs": [
        {
          "name": "stdout",
          "output_type": "stream",
          "text": [
            "95010\n"
          ]
        }
      ],
      "source": [
        "# dataset loading test and dimension check\n",
        "dataset = Coco(local_annotations + 'instances.json', local_annotations + \"refs(umd).p\")\n",
        "print(len(dataset))"
      ]
    },
    {
      "cell_type": "code",
      "execution_count": 60,
      "metadata": {
        "colab": {
          "base_uri": "https://localhost:8080/",
          "height": 424
        },
        "id": "ZDV7Hyel0KmQ",
        "outputId": "1c1f59ce-0e05-4225-e322-5e9f802104e7"
      },
      "outputs": [
        {
          "data": {
            "text/html": [
              "<div>\n",
              "<style scoped>\n",
              "    .dataframe tbody tr th:only-of-type {\n",
              "        vertical-align: middle;\n",
              "    }\n",
              "\n",
              "    .dataframe tbody tr th {\n",
              "        vertical-align: top;\n",
              "    }\n",
              "\n",
              "    .dataframe thead th {\n",
              "        text-align: right;\n",
              "    }\n",
              "</style>\n",
              "<table border=\"1\" class=\"dataframe\">\n",
              "  <thead>\n",
              "    <tr style=\"text-align: right;\">\n",
              "      <th></th>\n",
              "      <th>split</th>\n",
              "      <th>sentences</th>\n",
              "      <th>file_name</th>\n",
              "      <th>bbox</th>\n",
              "    </tr>\n",
              "  </thead>\n",
              "  <tbody>\n",
              "    <tr>\n",
              "      <th>0</th>\n",
              "      <td>test</td>\n",
              "      <td>{'tokens': ['the', 'man', 'in', 'yellow', 'coa...</td>\n",
              "      <td>COCO_train2014_000000380440_491042.jpg</td>\n",
              "      <td>[374.31, 65.06, 136.04, 201.94]</td>\n",
              "    </tr>\n",
              "    <tr>\n",
              "      <th>1</th>\n",
              "      <td>test</td>\n",
              "      <td>{'tokens': ['skiier', 'in', 'red', 'pants'], '...</td>\n",
              "      <td>COCO_train2014_000000380440_491042.jpg</td>\n",
              "      <td>[374.31, 65.06, 136.04, 201.94]</td>\n",
              "    </tr>\n",
              "    <tr>\n",
              "      <th>2</th>\n",
              "      <td>test</td>\n",
              "      <td>{'tokens': ['there', 'is', 'red', 'colored', '...</td>\n",
              "      <td>COCO_train2014_000000419645_398406.jpg</td>\n",
              "      <td>[93.95, 83.29, 504.61, 290.57]</td>\n",
              "    </tr>\n",
              "    <tr>\n",
              "      <th>3</th>\n",
              "      <td>test</td>\n",
              "      <td>{'tokens': ['a', 'shiny', 'red', 'vintage', 'p...</td>\n",
              "      <td>COCO_train2014_000000419645_398406.jpg</td>\n",
              "      <td>[93.95, 83.29, 504.61, 290.57]</td>\n",
              "    </tr>\n",
              "    <tr>\n",
              "      <th>4</th>\n",
              "      <td>test</td>\n",
              "      <td>{'tokens': ['a', 'apple', 'desktop', 'computer...</td>\n",
              "      <td>COCO_train2014_000000478885_124383.jpg</td>\n",
              "      <td>[338.8, 82.19, 147.34, 157.37]</td>\n",
              "    </tr>\n",
              "    <tr>\n",
              "      <th>...</th>\n",
              "      <td>...</td>\n",
              "      <td>...</td>\n",
              "      <td>...</td>\n",
              "      <td>...</td>\n",
              "    </tr>\n",
              "    <tr>\n",
              "      <th>95005</th>\n",
              "      <td>train</td>\n",
              "      <td>{'tokens': ['the', 'larger', 'banana', 'is', '...</td>\n",
              "      <td>COCO_train2014_000000003518_1042682.jpg</td>\n",
              "      <td>[141.7, 20.68, 359.02, 144.57]</td>\n",
              "    </tr>\n",
              "    <tr>\n",
              "      <th>95006</th>\n",
              "      <td>train</td>\n",
              "      <td>{'tokens': ['a', 'guy', 'in', 'black', 'jacket...</td>\n",
              "      <td>COCO_train2014_000000302199_473946.jpg</td>\n",
              "      <td>[141.34, 86.71, 115.33, 288.75]</td>\n",
              "    </tr>\n",
              "    <tr>\n",
              "      <th>95007</th>\n",
              "      <td>train</td>\n",
              "      <td>{'tokens': ['the', 'man', 'in', 'the', 'dark',...</td>\n",
              "      <td>COCO_train2014_000000302199_473946.jpg</td>\n",
              "      <td>[141.34, 86.71, 115.33, 288.75]</td>\n",
              "    </tr>\n",
              "    <tr>\n",
              "      <th>95008</th>\n",
              "      <td>train</td>\n",
              "      <td>{'tokens': ['a', 'person', 'in', 'red', 'dress...</td>\n",
              "      <td>COCO_train2014_000000573297_472971.jpg</td>\n",
              "      <td>[31.71, 67.03, 352.29, 572.97]</td>\n",
              "    </tr>\n",
              "    <tr>\n",
              "      <th>95009</th>\n",
              "      <td>train</td>\n",
              "      <td>{'tokens': ['man', 'wearing', 'a', 'red', 'cos...</td>\n",
              "      <td>COCO_train2014_000000573297_472971.jpg</td>\n",
              "      <td>[31.71, 67.03, 352.29, 572.97]</td>\n",
              "    </tr>\n",
              "  </tbody>\n",
              "</table>\n",
              "<p>95010 rows × 4 columns</p>\n",
              "</div>"
            ],
            "text/plain": [
              "       split                                          sentences   \n",
              "0       test  {'tokens': ['the', 'man', 'in', 'yellow', 'coa...  \\\n",
              "1       test  {'tokens': ['skiier', 'in', 'red', 'pants'], '...   \n",
              "2       test  {'tokens': ['there', 'is', 'red', 'colored', '...   \n",
              "3       test  {'tokens': ['a', 'shiny', 'red', 'vintage', 'p...   \n",
              "4       test  {'tokens': ['a', 'apple', 'desktop', 'computer...   \n",
              "...      ...                                                ...   \n",
              "95005  train  {'tokens': ['the', 'larger', 'banana', 'is', '...   \n",
              "95006  train  {'tokens': ['a', 'guy', 'in', 'black', 'jacket...   \n",
              "95007  train  {'tokens': ['the', 'man', 'in', 'the', 'dark',...   \n",
              "95008  train  {'tokens': ['a', 'person', 'in', 'red', 'dress...   \n",
              "95009  train  {'tokens': ['man', 'wearing', 'a', 'red', 'cos...   \n",
              "\n",
              "                                     file_name   \n",
              "0       COCO_train2014_000000380440_491042.jpg  \\\n",
              "1       COCO_train2014_000000380440_491042.jpg   \n",
              "2       COCO_train2014_000000419645_398406.jpg   \n",
              "3       COCO_train2014_000000419645_398406.jpg   \n",
              "4       COCO_train2014_000000478885_124383.jpg   \n",
              "...                                        ...   \n",
              "95005  COCO_train2014_000000003518_1042682.jpg   \n",
              "95006   COCO_train2014_000000302199_473946.jpg   \n",
              "95007   COCO_train2014_000000302199_473946.jpg   \n",
              "95008   COCO_train2014_000000573297_472971.jpg   \n",
              "95009   COCO_train2014_000000573297_472971.jpg   \n",
              "\n",
              "                                  bbox  \n",
              "0      [374.31, 65.06, 136.04, 201.94]  \n",
              "1      [374.31, 65.06, 136.04, 201.94]  \n",
              "2       [93.95, 83.29, 504.61, 290.57]  \n",
              "3       [93.95, 83.29, 504.61, 290.57]  \n",
              "4       [338.8, 82.19, 147.34, 157.37]  \n",
              "...                                ...  \n",
              "95005   [141.7, 20.68, 359.02, 144.57]  \n",
              "95006  [141.34, 86.71, 115.33, 288.75]  \n",
              "95007  [141.34, 86.71, 115.33, 288.75]  \n",
              "95008   [31.71, 67.03, 352.29, 572.97]  \n",
              "95009   [31.71, 67.03, 352.29, 572.97]  \n",
              "\n",
              "[95010 rows x 4 columns]"
            ]
          },
          "execution_count": 60,
          "metadata": {},
          "output_type": "execute_result"
        }
      ],
      "source": [
        "# to test prints the dataframe that composes the dataset\n",
        "dataset.dataset"
      ]
    },
    {
      "attachments": {},
      "cell_type": "markdown",
      "metadata": {},
      "source": [
        "## Base model"
      ]
    },
    {
      "attachments": {},
      "cell_type": "markdown",
      "metadata": {},
      "source": [
        "### Model definition"
      ]
    },
    {
      "attachments": {},
      "cell_type": "markdown",
      "metadata": {},
      "source": [
        "The baseline model sets a base score to the task in the dataset as suggested in the problem statement.\n",
        "It has a fairly simple pipeline using YOLO model and CLIP, with default parameters value. </br>\n",
        "Pipeline is defined as follows:\n",
        "- YOLO model is used to detect objects in the image.\n",
        "- The detected objects are then passed to the CLIP model to get the similarity scoress between the image and the caption.\n",
        "- The cropped image with the highest similarity score is chosen as prediction result."
      ]
    },
    {
      "attachments": {},
      "cell_type": "markdown",
      "metadata": {},
      "source": [
        "<img src= \"https://drive.google.com/uc?id=1tIB5jgT_cEzim-a_WLO77HKRxhidOZBp\" style=\"width: 80%;\">"
      ]
    },
    {
      "cell_type": "code",
      "execution_count": 85,
      "metadata": {},
      "outputs": [],
      "source": [
        "# class that defines the baseline model\n",
        "class VisualGrounding_baseline(torch.nn.Module):\n",
        "    def __init__(self, yolo_version, clip_version, local_path, img_path):\n",
        "        super(VisualGrounding_baseline, self).__init__()\n",
        "        self.local_path = local_path\n",
        "        self.img_path = img_path\n",
        "\n",
        "        # initialize models\n",
        "        self.yolo = torch.hub.load(\n",
        "            'ultralytics/yolov5', yolo_version, pretrained=True)\n",
        "        self.clip, self.preprocess = clip.load(clip_version)\n",
        "\n",
        "        self.name = \"baseline\"\n",
        "        # define metrics\n",
        "        self.metrics = Metrics(self.clip, self.name)\n",
        "\n",
        "        \n",
        "\n",
        "    def forward(self, img_path, sentence):\n",
        "        max_similarity = 0\n",
        "        max_image = None\n",
        "        max_bbox = None\n",
        "\n",
        "        # get yolo output\n",
        "        yolo_output = self.yolo(self.local_path+img_path)\n",
        "\n",
        "        original_img = Image.open(self.local_path+img_path).convert(\"RGB\")\n",
        "        text = clip.tokenize([sentence]).cuda()\n",
        "        with torch.no_grad():\n",
        "            text_features = self.clip.encode_text(text).float()\n",
        "\n",
        "        for i in range(len(yolo_output.xyxy[0])):\n",
        "            #crop the image based on the yolo output\n",
        "            img_cropped = crop_yolo(yolo_output, original_img, i)\n",
        "\n",
        "            img = self.preprocess(img_cropped).cuda().unsqueeze(0)\n",
        "\n",
        "            with torch.no_grad():\n",
        "                #calculate embeddings\n",
        "                image_features = self.clip.encode_image(img).float()\n",
        "\n",
        "            #compute cosine similarity\n",
        "            image_features /= image_features.norm(dim=-1, keepdim=True)\n",
        "            text_features /= text_features.norm(dim=-1, keepdim=True)\n",
        "            similarity = text_features.cpu().numpy() @ image_features.cpu().numpy().T\n",
        "\n",
        "            if similarity > max_similarity:\n",
        "                max_similarity = similarity\n",
        "                max_image = img_cropped\n",
        "                max_bbox = yolo_output.xyxy[0][i]\n",
        "\n",
        "        if max_image is None:\n",
        "            #set bbox to the whole image\n",
        "            max_bbox = [0, 0, original_img.width, original_img.height]\n",
        "            max_image = original_img\n",
        "\n",
        "        return max_bbox, max_image\n",
        "\n",
        "    def evaluate(self, img_path, sentence, gt, original_img, index):\n",
        "        bbox = convert_bbox(gt, original_img)\n",
        "        gt_crop = original_img.crop(bbox)\n",
        "        prediction_bbox, prediction_img = self.forward(img_path, sentence)\n",
        "        self.metrics.update(prediction_bbox, bbox, prediction_img, gt_crop)\n",
        "        return prediction_bbox, prediction_img\n",
        "\n",
        "    def reset_metrics(self):\n",
        "        self.metrics.reset()\n",
        "\n",
        "    def get_metrics(self):\n",
        "        return self.metrics.to_string()\n",
        "\n",
        "    def save_metrics(self):\n",
        "        self.metrics.save()"
      ]
    },
    {
      "attachments": {},
      "cell_type": "markdown",
      "metadata": {
        "id": "JJq1udMa0WW-"
      },
      "source": [
        "## STANZA NLP analysis "
      ]
    },
    {
      "attachments": {},
      "cell_type": "markdown",
      "metadata": {},
      "source": [
        "To discriminate our final predictions we use some Natural Language Processing techniques in order to find the subject of the given caption. \n",
        "What we decided to use is the [Dependency graph](https://www.analyticsvidhya.com/blog/2021/12/dependency-parsing-in-natural-language-processing-with-examples/) technique. This is useful because it represents the dependencies between the various tokens inside of a sentence. \n",
        "In fact in each sentence we can define the so called **root**, which is the token on which all other tokens in the sentence depend. This can generate two possible scenarios: \n",
        "- **The root is a noun**: this is the best case for our task since we can identify that name as the subject of the caption.\n",
        "- **The root is a verb**:  This case creates what is called a **\"verbal phrase\"**, which is a sentence in which the root is a verb. Removing it from the sentence would make it lose meaning. When we have such type of sentence, there is high chance of having inside of the dependencies, the so called \"NSUBJ\" or  [Nominal Subject](https://universaldependencies.org/en/dep/nsubj.html) (both active and passive). If it is present than this is the subject of our sentence. \n",
        "Otherwise if it is not present, once we have found the root of the sentence as a verb, we go back from the verb to the beginning of the sentence and we select as root of the sentence the first noun that we find.\n",
        "\n",
        "\n",
        "In the image below is showed an example of dependency graph."
      ]
    },
    {
      "attachments": {},
      "cell_type": "markdown",
      "metadata": {},
      "source": [
        "\n",
        "<img src='https://editor.analyticsvidhya.com/uploads/29920Screenshot%20(127).png' style=\"width: 70% \">\n",
        "\n",
        "\n",
        "In the dependency graph, the root can be indentifyed as it is the only one word that has no entering arrows."
      ]
    },
    {
      "attachments": {},
      "cell_type": "markdown",
      "metadata": {},
      "source": [
        "### Install STANZA dependency graph model"
      ]
    },
    {
      "cell_type": "code",
      "execution_count": 62,
      "metadata": {},
      "outputs": [
        {
          "data": {
            "application/vnd.jupyter.widget-view+json": {
              "model_id": "f7f5497b4e8a497696aa558e65ac27d2",
              "version_major": 2,
              "version_minor": 0
            },
            "text/plain": [
              "Downloading https://raw.githubusercontent.com/stanfordnlp/stanza-resources/main/resources_1.5.0.json:   0%|   …"
            ]
          },
          "metadata": {},
          "output_type": "display_data"
        },
        {
          "name": "stderr",
          "output_type": "stream",
          "text": [
            "2023-06-13 15:42:04 INFO: Downloading these customized packages for language: en (English)...\n",
            "==============================\n",
            "| Processor       | Package  |\n",
            "------------------------------\n",
            "| tokenize        | partut   |\n",
            "| mwt             | partut   |\n",
            "| pos             | partut   |\n",
            "| lemma           | partut   |\n",
            "| depparse        | partut   |\n",
            "| forward_charlm  | 1billion |\n",
            "| backward_charlm | 1billion |\n",
            "| pretrain        | partut   |\n",
            "==============================\n",
            "\n",
            "2023-06-13 15:42:04 INFO: File exists: /home/pappol/stanza_resources/en/tokenize/partut.pt\n",
            "2023-06-13 15:42:04 INFO: File exists: /home/pappol/stanza_resources/en/mwt/partut.pt\n",
            "2023-06-13 15:42:04 INFO: File exists: /home/pappol/stanza_resources/en/pos/partut.pt\n",
            "2023-06-13 15:42:04 INFO: File exists: /home/pappol/stanza_resources/en/lemma/partut.pt\n",
            "2023-06-13 15:42:04 INFO: File exists: /home/pappol/stanza_resources/en/depparse/partut.pt\n",
            "2023-06-13 15:42:04 INFO: File exists: /home/pappol/stanza_resources/en/forward_charlm/1billion.pt\n",
            "2023-06-13 15:42:04 INFO: File exists: /home/pappol/stanza_resources/en/backward_charlm/1billion.pt\n",
            "2023-06-13 15:42:04 INFO: File exists: /home/pappol/stanza_resources/en/pretrain/partut.pt\n",
            "2023-06-13 15:42:04 INFO: Finished downloading models and saved to /home/pappol/stanza_resources.\n",
            "2023-06-13 15:42:04 INFO: Checking for updates to resources.json in case models have been updated.  Note: this behavior can be turned off with download_method=None or download_method=DownloadMethod.REUSE_RESOURCES\n"
          ]
        },
        {
          "data": {
            "application/vnd.jupyter.widget-view+json": {
              "model_id": "ef3f6592837e4815b7562f9ca901d6cf",
              "version_major": 2,
              "version_minor": 0
            },
            "text/plain": [
              "Downloading https://raw.githubusercontent.com/stanfordnlp/stanza-resources/main/resources_1.5.0.json:   0%|   …"
            ]
          },
          "metadata": {},
          "output_type": "display_data"
        },
        {
          "name": "stderr",
          "output_type": "stream",
          "text": [
            "2023-06-13 15:42:05 INFO: Loading these models for language: en (English):\n",
            "============================\n",
            "| Processor    | Package   |\n",
            "----------------------------\n",
            "| tokenize     | combined  |\n",
            "| pos          | combined  |\n",
            "| lemma        | combined  |\n",
            "| constituency | wsj       |\n",
            "| depparse     | combined  |\n",
            "| sentiment    | sstplus   |\n",
            "| ner          | ontonotes |\n",
            "============================\n",
            "\n",
            "2023-06-13 15:42:05 INFO: Using device: cuda\n",
            "2023-06-13 15:42:05 INFO: Loading: tokenize\n",
            "2023-06-13 15:42:05 INFO: Loading: pos\n",
            "2023-06-13 15:42:05 INFO: Loading: lemma\n",
            "2023-06-13 15:42:05 INFO: Loading: constituency\n",
            "2023-06-13 15:42:06 INFO: Loading: depparse\n",
            "2023-06-13 15:42:06 INFO: Loading: sentiment\n",
            "2023-06-13 15:42:06 INFO: Loading: ner\n",
            "2023-06-13 15:42:07 INFO: Done loading processors!\n"
          ]
        }
      ],
      "source": [
        "stanza.download('en',package='partut')\n",
        "nlp = stanza.Pipeline(lang='en')"
      ]
    },
    {
      "attachments": {},
      "cell_type": "markdown",
      "metadata": {},
      "source": [
        "### Preprocess not well-formed sentences \n"
      ]
    },
    {
      "attachments": {},
      "cell_type": "markdown",
      "metadata": {},
      "source": [
        "We noticed that there was a problem with the so called \"**not well-formed**\" sentences (*In natural language processing, a not well-formed sentence refers to a sentence that does not conform to the rules and conventions of the language, making it difficult or impossible to be accurately processed and understood by a computer program or a human reader*), this was creating the effect of not being able to find the correct root of the sentence. \n",
        "For example one of the cases we encountered was the sentence: \"*boy holding two bears*\".\n",
        "Analyzing it with [corenlp](https://corenlp.run/) gave us the following result: <br>\n",
        "\n",
        "![picture](https://drive.google.com/uc?id=1KrY63kV1KwWWsjyyPnIlsOW1rUtU0KXM) \n",
        "\n",
        "This is an example of a \"not well-formed\" sentence, in fact although the root of the sentence is the verb \"holding\", when we apply the NLP parsing we cannot retrieve the noun \"boy\" as the subject of the sentence since it is recognised as an [INTJ](https://universaldependencies.org/u/pos/INTJ.html).\n",
        "\n",
        "In order to solve this problem we noticed that adding a [determiner](https://universaldependencies.org/u/pos/DET.html) at the beginning of the sentence allows us to avoid having such problems. Through all the possible determiners, we chose \"*the*\" as it does not change the meaning of the sentence and it is the most general one. \n",
        "\n",
        "After this is applied, we obtain the following dependecy parsing in which the word \"boy\" is parsed as a [NOUN](https://universaldependencies.org/u/pos/NOUN.html) \n",
        "\n",
        "![picture](https://drive.google.com/uc?id=1Rt4nU5kXKSn-pq6nRkaCAcyp__m7Z1cd) <br>\n"
      ]
    },
    {
      "attachments": {},
      "cell_type": "markdown",
      "metadata": {},
      "source": [
        "### STANZA sentence preprocess\n"
      ]
    },
    {
      "attachments": {},
      "cell_type": "markdown",
      "metadata": {},
      "source": [
        "Before analyzing a sentence, we have a preliminary step in which we exclude certain errors in our subject prediction. One observation we made is that the conjunction phrase \"*that is*\" often introduces positional information about the dataset, which can conflict with the subject recognition task. Consequently, we have chosen to remove such phrases. Another issue arises with specific quantifiers, such as \"*the part of*\",\"*the side of*\", \"*the bunch of*\", and \"*the piece of*\" . The problem here is that the word between \"*the*\" and \"*of*\" is mistakenly recognized as the subject of the sentence, resulting in an error. By eliminating these parts of the sentence, along with anything that precedes them, we can avoid this error and correctly identify the intended subject. Consider the sentence: \"*The end of a table, with a pink tablecloth, at which eight people are sitting.*\", this serves as a perfect example. \n",
        "Without applying pre-processing, the extracted subject would be \"*end*\" since it is a noun and the root of our sentence. However, our desired subject and root is \"*table*\".\n",
        "\n",
        "![picture](https://drive.google.com/uc?id=18NsJQmaljnDhXOv4ZeO-NDeJVTsY0Lyr) <br>\n",
        "\n",
        " By removing everything preceding the specific quantifier \"*the end of*\", we can successfully identify and recognize \"*table**\" the intended subject.\n",
        "\n",
        "\n",
        "![picture](https://drive.google.com/uc?id=1hiEErzQjWBh7WJCWCaDXLc0Xgzp0xOR1) <br>\n",
        "\n"
      ]
    },
    {
      "cell_type": "code",
      "execution_count": 63,
      "metadata": {},
      "outputs": [],
      "source": [
        "# to remove all the specific quantifiers\n",
        "def remove_of(sentence):\n",
        " if \"the side of\" in sentence:\n",
        "    index=sentence.find(\"the side of\")\n",
        "    sentence=sentence[index+11:]\n",
        "    return sentence\n",
        " if \"the handle of\" in sentence:\n",
        "    index=sentence.find(\"the handle of\")\n",
        "    sentence=sentence[index+13:]\n",
        " if \"the bunch of\" in sentence:\n",
        "    index=sentence.find(\"the bunch of\")\n",
        "    sentence=sentence[index+12:]\n",
        "    return sentence   \n",
        " if \"the corner of\" in sentence:\n",
        "    index=sentence.find(\"the corner of\")\n",
        "    sentence=sentence[index+13:]\n",
        "    return sentence\n",
        " if \"the end of\" in sentence:\n",
        "    index=sentence.find(\"the end of\")\n",
        "    sentence=sentence[index+10:]\n",
        "    return sentence\n",
        " if \"the half of\" in sentence:\n",
        "    index=sentence.find(\"the half of\")\n",
        "    sentence=sentence[index+11:]\n",
        "    return sentence    \n",
        " if \"the edge of\" in sentence:\n",
        "    index=sentence.find(\"the edge of\")\n",
        "    sentence=sentence[index+11:]    \n",
        "    return sentence\n",
        " if \"the back of\" in sentence:\n",
        "    index=sentence.find(\"the back of\")\n",
        "    sentence=sentence[index+11:]\n",
        "    return sentence   \n",
        " if \"the smaller of\" in sentence:\n",
        "    index=sentence.find(\"the smaller of\")\n",
        "    sentence=sentence[index+14:]\n",
        "    return sentence    \n",
        " if \"the piece of\" in sentence:\n",
        "    index=sentence.find(\"the piece of\")\n",
        "    sentence=sentence[index+16:]\n",
        "    return sentence \n",
        " if \"the wing of\" in sentence:\n",
        "    index=sentence.find(\"the wing of\")\n",
        "    sentence=sentence[index+11:]    \n",
        "\n",
        " if \"the front of\" in sentence:\n",
        "    index=sentence.find(\"the front of\")\n",
        "    sentence=sentence[index+12:]   \n",
        "    return sentence \n",
        " if \"the back side of\" in sentence:\n",
        "    index=sentence.find(\"the back side of\")\n",
        "    sentence=sentence[index+16:]   \n",
        "    return sentence\n",
        " if \"the front side of\" in sentence:\n",
        "    index=sentence.find(\"the front side of\")\n",
        "    sentence=sentence[index+17:]   \n",
        "    return sentence \n",
        " if \"the left side of\" in sentence:\n",
        "    index=sentence.find(\"the left side of\")\n",
        "    sentence=sentence[index+16:]   \n",
        "    return sentence\n",
        " if \"the right side of\" in sentence:\n",
        "    index=sentence.find(\"the back side of\")\n",
        "    sentence=sentence[index+17:]   \n",
        "    return sentence\n",
        "  \n",
        " if \"the pile of\" in sentence:\n",
        "    index=sentence.find(\"the pile of\")\n",
        "    sentence=sentence[index+11:]    \n",
        "    return sentence\n",
        " if \"the pair of\" in sentence:\n",
        "    index=sentence.find(\"the pair of\")\n",
        "    sentence=sentence[index+11:] \n",
        "    return sentence   \n",
        " if \"the pieces of\" in sentence:\n",
        "    index=sentence.find(\"the pieces of\")\n",
        "    sentence=sentence[index+13:]   \n",
        "    return sentence \n",
        " if \"the intersection of\" in sentence:\n",
        "    index=sentence.find(\"the intersection of\")\n",
        "    sentence=sentence[index+19:]  \n",
        "    return sentence  \n",
        " if \"the middle of\" in sentence:\n",
        "    index=sentence.find(\"the middle of\")\n",
        "    sentence=sentence[index+13:]\n",
        "    return sentence    \n",
        " if \"the patch of\" in sentence:\n",
        "    index=sentence.find(\"the patch of\")\n",
        "    sentence=sentence[index+12:]    \n",
        "    return sentence\n",
        " if \"the couple of\" in sentence:\n",
        "    index=sentence.find(\"the couple of\")\n",
        "    sentence=sentence[index+12:]    \n",
        "    return sentence\n",
        " if \"the slice of\" in sentence:\n",
        "    index=sentence.find(\"the slice of\")\n",
        "    sentence=sentence[index+12:]    \n",
        "    return sentence\n",
        " if \"the tallest of\" in sentence:\n",
        "    index=sentence.find(\"the tallest of\")\n",
        "    sentence=sentence[index+14:]    \n",
        "    return sentence\n",
        " if \"the kind of\" in sentence:\n",
        "    index=sentence.find(\"the kind of\")\n",
        "    sentence=sentence[index+11:]\n",
        "    return sentence    \n",
        " if \"that is\" in sentence:\n",
        "    index=sentence.find(\"that is\")\n",
        "    sentence=sentence[:index]\n",
        "    return sentence\n",
        " if \"the part of\" in sentence:\n",
        "    index=sentence.find(\"the part of\")\n",
        "    sentence=sentence[index+11:]\n",
        "    return sentence\n",
        " if \"the corner of\" in sentence:\n",
        "    index=sentence.find(\"the corner of\")\n",
        "    sentence=sentence[index+13:]\n",
        "    return sentence\n",
        " if \"the half of\" in sentence:\n",
        "    index=sentence.find(\"the half of\")\n",
        "    sentence=sentence[index+11:]\n",
        "    return sentence\n",
        " if \"the top of\" in sentence:\n",
        "    index=sentence.find(\"the top of\")\n",
        "    sentence=sentence[index+10:]\n",
        "    return sentence\n",
        " return sentence"
      ]
    },
    {
      "attachments": {},
      "cell_type": "markdown",
      "metadata": {},
      "source": [
        "### Beginning of sentence processing"
      ]
    },
    {
      "attachments": {},
      "cell_type": "markdown",
      "metadata": {},
      "source": [
        "To ensure proper analysis of sentences, it is essential to perform additional preprocessing before removing specific quantifiers. This preprocessing aims to address two specific cases:\n",
        "\n",
        "- The first case pertains to sentences lacking an article at the beginning. This poses a challenge for our parser in correctly identifying the subject of the sentence. Thus, it is necessary to rectify this issue by adding an appropriate article.\n",
        "\n",
        "- The second case involves sentences starting with \"*there is*\" that is recognised as a NSUBJ. To effectively address this issue, we must remove the section that assumes the NSUBJ within our caption as the root when selecting our subject. \n",
        "\n",
        "Therefore, in order to effectively address these two cases, it is necessary to perform these preprocessing steps prior to removing specific quantifiers."
      ]
    },
    {
      "cell_type": "code",
      "execution_count": 64,
      "metadata": {},
      "outputs": [
        {
          "data": {
            "text/plain": [
              "'nlp_sent=input[\"sentences\"][\"raw\"]\\nnlp_sent=nlp_sent.lower()\\nx = nlp_sent.split(\" \")\\nif(x[0]!=\"the\" and x[0]!=\"a\"):\\n    nlp_sent=\"the \"+nlp_sent\\nif nlp_sent.startswith(\\'there is \\'):\\n    nlp_sent = \\'the \\' + nlp_sent[9:]\\nnlp_sent=remove_of(nlp_sent)\\n\\nprint(nlp_sent)'"
            ]
          },
          "execution_count": 64,
          "metadata": {},
          "output_type": "execute_result"
        }
      ],
      "source": [
        "# this is the code to do what mentioned before, but it is embedded into the sent_stanza_processing function\n",
        "\n",
        "'''nlp_sent=input[\"sentences\"][\"raw\"]\n",
        "nlp_sent=nlp_sent.lower()\n",
        "x = nlp_sent.split(\" \")\n",
        "if(x[0]!=\"the\" and x[0]!=\"a\"):\n",
        "    nlp_sent=\"the \"+nlp_sent\n",
        "if nlp_sent.startswith('there is '):\n",
        "    nlp_sent = 'the ' + nlp_sent[9:]\n",
        "nlp_sent=remove_of(nlp_sent)\n",
        "\n",
        "print(nlp_sent)'''"
      ]
    },
    {
      "attachments": {},
      "cell_type": "markdown",
      "metadata": {},
      "source": [
        "### Analyze caption and compute features of its root \n"
      ]
    },
    {
      "attachments": {},
      "cell_type": "markdown",
      "metadata": {},
      "source": [
        "This is the core function of our sentence processing. The process is defined as follows: \n",
        "* First the sentence is lowercased: this must be done in order to achieve better performances in the NLP part.\n",
        "* Then the \"beginning of sentence processing\" seen above is applied\n",
        "* Finally,in order to extract the subject, the strategy to process the sentence is applied: if a NSUBJ is present (both in active or passive form), it is selected as the root of our sentence. \n",
        " \n"
      ]
    },
    {
      "cell_type": "code",
      "execution_count": 65,
      "metadata": {},
      "outputs": [],
      "source": [
        "def sent_stanza_processing(sentence):\n",
        "    # if the sentence start with \"there is\" or \"this is\"  replace it with \"the\"\n",
        "    sentence = sentence.lower()\n",
        "    if sentence.startswith('there is '):\n",
        "        sentence = 'the ' + sentence[9:]\n",
        "    if sentence.startswith('this is '):\n",
        "        sentence = sentence[9:]\n",
        "    # remove specific quantifiers\n",
        "    sentence = remove_of(sentence)\n",
        "    # put the sentence in lower case\n",
        "    nlp_sent = sentence.lower()\n",
        "\n",
        "    # if the sentence does not start with \"a\" or \"the\" insert it\n",
        "    x = nlp_sent.split(\" \")\n",
        "    if (x[0] != \"the\" and x[0] != \"a\"):\n",
        "        nlp_sent = \"the \" + nlp_sent\n",
        "\n",
        "    # apply stanza processing\n",
        "    doc = nlp(nlp_sent)\n",
        "    \n",
        "    # print nlp dependencies\n",
        "    # doc.sentences[0].print_dependencies()\n",
        "    # empty root\n",
        "    root = ''\n",
        "    phrase_upos = []\n",
        "    # get heads of words\n",
        "    heads = [sent.words[word.head -\n",
        "                        1].text for sent in doc.sentences for word in sent.words]\n",
        "    for sent in doc.sentences:\n",
        "        for word in sent.words:\n",
        "            # if it is a verbal phrase then take the nominal subject of the phrase\n",
        "            if (word.deprel == 'nsubj' or word.deprel == 'nsubj:pass'):\n",
        "                root = word.text\n",
        "                return word.text\n",
        "                break\n",
        "            phrase_upos.append(word)\n",
        "            # else take the root of the phrase\n",
        "            if (word.head == 0):\n",
        "                # if the root is a verb\n",
        "                if (word.upos == 'VERB'):\n",
        "                    for w in reversed(phrase_upos):\n",
        "                        # go back until you get a noun\n",
        "                        if (w.upos == 'NN'):\n",
        "                            return word.text\n",
        "                # otherwise we take the noun\n",
        "                return word.text\n"
      ]
    },
    {
      "attachments": {},
      "cell_type": "markdown",
      "metadata": {},
      "source": [
        "### YOLO class prediction analysis"
      ]
    },
    {
      "attachments": {},
      "cell_type": "markdown",
      "metadata": {},
      "source": [
        "Next, we encode the classes included in our YOLO predictions. These encodings are utilized to determine the similarity between the root of our sentence and the YOLO classes, enabling us to associate it with one of the original YOLO classes. By expressing the subject of our sentence as one of the YOLO classes, we can exclude all bounding boxes with labels different from that of our subject."
      ]
    },
    {
      "cell_type": "code",
      "execution_count": 66,
      "metadata": {},
      "outputs": [],
      "source": [
        "def get_root(yolo_output, sentence, model, yolo):\n",
        "    names = []\n",
        "    root = sent_stanza_processing(sentence)\n",
        "    #caculate embedding of the root\n",
        "    with torch.no_grad():\n",
        "        prompt_tokens = clip.tokenize(root, context_length=77, truncate=True).cuda()\n",
        "        prompt_features = model.encode_text(prompt_tokens).float()\n",
        "\n",
        "    #caculate embedding of the classes found by yolo in the image\n",
        "    for a in range(len(yolo_output.xyxy[0])):\n",
        "        class_index = int(yolo_output.pred[0][a][5])\n",
        "        label = yolo.names[class_index]\n",
        "        names.append(label)\n",
        "\n",
        "    with torch.no_grad():\n",
        "        tokens = clip.tokenize(names, context_length=77, truncate=True).cuda()\n",
        "        classes_features = model.encode_text(tokens).float()\n",
        "\n",
        "    #caculate similarity between the root and the classes\n",
        "    prompt_features /= prompt_features.norm(dim=-1, keepdim=True)\n",
        "    classes_features /= classes_features.norm(dim=-1, keepdim=True)\n",
        "    prompt_similarity = classes_features.cpu().numpy() @ prompt_features.cpu().numpy().T\n",
        "\n",
        "    if prompt_similarity.shape[0] == 0:\n",
        "        return \"empty\"\n",
        "    \n",
        "    rappresentation = np.argmax(prompt_similarity)\n",
        "\n",
        "    return names[rappresentation]"
      ]
    },
    {
      "attachments": {},
      "cell_type": "markdown",
      "metadata": {},
      "source": [
        "We tested STANZA on the test set to verify how accurately the subject extracted from the caption corresponded to the class of the bounding box predicted by YOLO. Obtained an accuracy of 87%. However, this result needs further explanation as it includes a 13% error rate, which can be categorized into three types of errors:\n",
        "\n",
        "* The first type of error stems from issues in the sentence itself.  These errors can occur in two cases: when the sentence contains grammatical errors such as \"*The class of water in front of the bowl of bread*\" or when the sentence is not well-formed such as \"*Pot boiling water with green bell peppers in man's kitchen*\" that is missing the \"*of*\" between \"*Pot*\" and \"*boiling*\". NLP parsers are primarily designed for well-formed written languages, so errors may arise when working with other types of languages. One possible solution to address this problem is to introduce a machine learning model that can correct these errors and transform the original sentence into a well-formed one without altering its intended meaning.\n",
        "\n",
        "* The second type of error is intrinsic in the dataset. In this case, the error arises from incorrect labeling of the subject class in the dataset, while our NLP analysis provides us with the correct subject. These errors can be considered as \"*false negatives*\" as they do not significantly impact the final outcome of the pipeline. An example is given by the bounding box referring to the caption \"*The teddy bear that is sitting down*\". In this case, the subject extracted by STANZA is \"*teddy bear*\", which aligns with the class predicted by YOLO, while the reference class in the dataset is \"*couch*\".\n",
        "\n",
        "\n",
        "* The third type of error is related to our own process. This error occurs when we are unable to correctly map the predicted subject to one of the classes in YOLO. This issue arises due to the utilization of the CLIP encoder, which has a fixed context length of 77 tokens, during the process of embedding the subject of the sentence and the YOLO classes. The results we obtain are highly influenced by this context.\n",
        "To illustrate this, let's consider an example where the word \"*lemon*\" is the subject in our context, and we intend to associate it with the \"*orange*\" class. However, if the \"*banana*\" class is selected as the most similar, it is because the word \"*banana*\" appears more frequently in the analyzed context near the word \"*lemon*\" than the word \"*orange*\" does.\n",
        "The embedding process relies heavily on the surrounding context, and the choice of the most similar class depends on the co-occurrence patterns observed within that context. Therefore, variations in the embedding results can occur based on the specific context utilized by the CLIP encoder.\n",
        "\n",
        "The image below illustrates the relationship between YOLO classes and the incorrect predictions made by STANZA for those classes.\n",
        "\n",
        "\n",
        "![picture](https://drive.google.com/uc?id=1HBwVG3eLydcXMMkcidT4icvZqAgKayCJ)\n"
      ]
    },
    {
      "attachments": {},
      "cell_type": "markdown",
      "metadata": {},
      "source": [
        "### Model definition"
      ]
    },
    {
      "attachments": {},
      "cell_type": "markdown",
      "metadata": {},
      "source": [
        "This is the entire proposed model were we keep the same structure as the baseline model but we add stanza in order to extract the subject of the sentence and filter the bounding boxes that are not related to the subject.\n",
        "</br>\n",
        "The model pipeline is the following:\n",
        "- Bounding boxes are extracted from the image using YOLO.\n",
        "- STANZA filters the bounding boxes that are not related to the subject of the sentence.\n",
        "- CLIP is used to compute the similarity between the sentence and the cropped image.\n",
        "- The bounding box with the highest similarity is selected as the final prediction."
      ]
    },
    {
      "attachments": {},
      "cell_type": "markdown",
      "metadata": {},
      "source": [
        "<img src= \"https://drive.google.com/uc?id=18oZcztyQNLCilJHAmUvqYEX7Cp-adMeW\" style=\"width: 80%;\">\n"
      ]
    },
    {
      "cell_type": "code",
      "execution_count": 67,
      "metadata": {
        "id": "DkfKW4cL0ToQ"
      },
      "outputs": [],
      "source": [
        "# Class definition for stanza variation model\n",
        "class VisualGrounding_stanza(torch.nn.Module):\n",
        "    def __init__(self, yolo_version, clip_version, local_path, img_path):\n",
        "        super(VisualGrounding_stanza, self).__init__()\n",
        "        self.local_path = local_path\n",
        "        self.img_path = img_path\n",
        "\n",
        "        # initialize models\n",
        "        self.yolo = torch.hub.load('ultralytics/yolov5', yolo_version, pretrained=True)\n",
        "        self.clip, self.preprocess = clip.load(clip_version)\n",
        "\n",
        "        self.name = \"stanza\"\n",
        "        # define metrics\n",
        "        self.metrics = Metrics(self.clip, self.name)\n",
        "\n",
        "    def forward(self, img_path, sentence):\n",
        "        max_similarity = 0\n",
        "        max_image = None\n",
        "        max_bbox = None\n",
        "\n",
        "        yolo_output = self.yolo(self.local_path+img_path)\n",
        "        original_img = Image.open(self.local_path+img_path).convert(\"RGB\")\n",
        "\n",
        "        #get the root of the sentence\n",
        "        root = get_root(yolo_output, sentence, self.clip, self.yolo)\n",
        "\n",
        "        text = clip.tokenize([sentence]).cuda()\n",
        "        with torch.no_grad():\n",
        "            text_features = self.clip.encode_text(text).float()\n",
        "\n",
        "        for i in range(len(yolo_output.xyxy[0])):\n",
        "            #if the root is not empty and the class of the yolo output is different from the root skip the iteration\n",
        "            if root != \"empty\" and self.yolo.names[int(yolo_output.pred[0][i][5])] != root:\n",
        "                continue\n",
        "            \n",
        "            #crop the image based on the yolo output\n",
        "            img_cropped = crop_yolo(yolo_output, original_img, i)\n",
        "\n",
        "            img = self.preprocess(img_cropped).cuda().unsqueeze(0)\n",
        "\n",
        "            with torch.no_grad():\n",
        "                image_features = self.clip.encode_image(img).float()\n",
        "\n",
        "            image_features /= image_features.norm(dim=-1, keepdim=True)\n",
        "            text_features /= text_features.norm(dim=-1, keepdim=True)\n",
        "            similarity = text_features.cpu().numpy() @ image_features.cpu().numpy().T\n",
        "\n",
        "            if similarity > max_similarity:\n",
        "                max_similarity = similarity\n",
        "                max_image = img_cropped\n",
        "                max_bbox = yolo_output.xyxy[0][i]\n",
        "\n",
        "        if max_image is None:\n",
        "            #set bbox to the whole image\n",
        "            max_bbox = [0, 0, original_img.width, original_img.height]\n",
        "            max_image = original_img\n",
        "\n",
        "        return max_bbox, max_image\n",
        "\n",
        "    def evaluate(self, img_path, sentence, gt, original_img, index):\n",
        "        bbox = convert_bbox(gt, original_img)\n",
        "        gt_crop = original_img.crop(bbox)\n",
        "        prediction_bbox, prediction_img = self.forward(img_path, sentence)\n",
        "        self.metrics.update(prediction_bbox, bbox, prediction_img, gt_crop)\n",
        "        return prediction_bbox, prediction_img\n",
        "\n",
        "    def reset_metrics(self):\n",
        "        self.metrics.reset()\n",
        "\n",
        "    def get_metrics(self):\n",
        "        return self.metrics.to_string()\n",
        "    \n",
        "    def save_metrics(self):\n",
        "        self.metrics.save()"
      ]
    },
    {
      "attachments": {},
      "cell_type": "markdown",
      "metadata": {},
      "source": [
        "## Text to text model"
      ]
    },
    {
      "attachments": {},
      "cell_type": "markdown",
      "metadata": {},
      "source": [
        "**Image captioning** is an additional tool we have considered to distinguish, among the bounding boxes extracted from YOLO, the one associated with the input sentence. <br>\n",
        "More specifically, using an image captioning model, we generated a caption for each bounding box, then we compared these generated captions with the reference caption provided as input and, based on the similarity score, we selected the corresponding bounding box."
      ]
    },
    {
      "attachments": {},
      "cell_type": "markdown",
      "metadata": {},
      "source": [
        "### **What is image captioning task?**"
      ]
    },
    {
      "attachments": {},
      "cell_type": "markdown",
      "metadata": {},
      "source": [
        "Image captioning is as an **End-to-End Sequence to Sequence** embedding task, where Image pixels are input sequences, and image describing caption is the desired output. <br>\n",
        "Due to exclusive nature of both images and text sequences two different model are required to solve this task: one dedicated to **_encode_** from images, and the other one dedicated to **_decode_** a text sequence\n",
        "As shown in the figure below, Encoder for image is a [Vision Transformer](https://arxiv.org/abs/2010.11929v2) while the output embeddings from ViT Encoder are connected with the Decoder transformer which is [Roberta](https://arxiv.org/abs/1907.11692) transformer architecture. \n",
        "</br>\n",
        "\n",
        "<img src='https://drive.google.com/uc?id=1wifY-iD3FShRWAR6jFcLriQN5cgUoo6X' style=\"width: 70% \">\n",
        "\n",
        "</br>\n",
        "\n",
        "Once initialized the **Vision Encoder Decoder** with the pretrained models, (Vision transformer and Roberta), it creates an **image encoder** and **language decoder** instance and ties their embeddings together using a cross attention layer. <br>\n",
        "During training, both image and desired caption are passed as inputs to the model. This is an example of **\"teacher forcing\"** training. <br>\n",
        "In above example, the image and caption \"*&lt;start&gt; Dog is running in grass with ball in its mouth &lt;stop&gt;*\" are the inputs to the model. <br>\n",
        "Using these inputs, the model is forced to generate same caption, this leads to understanding the correlation between words in captions and objects in the input images: at every training step, the model predicts sequence of words which is compared with the actual caption and the loss is propagated back to learn.\n",
        "    \n",
        "After training, Image below explains how we generate text sequence.\n",
        "    \n",
        "* We start with image and start token \"*&lt;start&gt;*\" as input to the model.\n",
        "* Using inputs model generates [sequence * Vocabulary] length vector again, but unlike in training (where all the tokens are used) only the second token (immediately succeeding to start token) is considered and all the other words are masked. Above it is shown, after start token, \"*Dog*\" was the first word, and all the other words were masked.\n",
        "* Once we get the first word, we repeat the process in first step except this time we will use \"*&lt;start&gt; Dog*\" as our input and generate next word (3rd token).\n",
        "*This loop continues until the model outputs an end token or reaches a maximum set length of output.\n",
        "\n",
        "<img src='https://drive.google.com/uc?id=1LyB9Xa8fZ6m8Qb2oPnFUtPybB_TRc_yK' style=\"width: 50%\">\n",
        "\n"
      ]
    },
    {
      "attachments": {},
      "cell_type": "markdown",
      "metadata": {},
      "source": [
        "Starting from the Image Captioning pretrained model based on [google/vit-base-patch16-224-in21k](https://huggingface.co/google/vit-base-patch16-224-in21k) for the Encoder Vision Transformer and [RoBERTa](https://huggingface.co/roberta-base) Decoder, we have conducted a **fine-tuning process**, training it on the **test-images** of RefCOCOg dataset in order to improve its performance and adapt it to our specific image captioning needs.\n",
        "The fine tuning has been done over **75 epochs**, with **train batch size = 16** and **validation batch size = 6**. <br>\n",
        "Using **RobertaTokenizerFast** class, the maximum number of tokens allowed for training descriptions has been set to **max len = 128**, while the maximum length of the generated captions has been defined as **summary len = 20**. The **weight decay = 0.01**  and **learning rate = 1e-4**. <br>\n",
        "Knowing that **beams** are different candidate sequences that the model considers during generation, (an higher number of beams allows the model to explore multiple possibilities) other parameters that have been set are: <br>\n",
        "\n",
        "* **model.config.eos_token_id** sets the end-of-sequence (EOS) token ID. During beam search, when generating sequences, the model will stop generating tokens once it encounters the EOS token.\n",
        "\n",
        "* **model.config.early_stopping = True**, this parameter enables early stopping during beam search. It means that if all beams have generated an EOS token, the generation process will stop early instead of continuing until summary length is reached.\n",
        "\n",
        "* **model.config.no_repeat_ngram_size = 3**  prevents the model from repeating 3-grams of a specific size in the generated sequence. It helps to avoid repetitive or redundant phrases in the generated output.\n",
        "\n",
        "* **model.config.length_penalty = 2.0**, this parameter applies a penalty to longer sequences during beam search. A value greater than 1.0 will prioritize shorter sequences, while a value less than 1.0 will favor longer sequences. It helps to balance between generating concise or more detailed output.\n",
        "\n",
        "* **model.config.num_beams = 4**  determines the number of beams to use during beam search."
      ]
    },
    {
      "attachments": {},
      "cell_type": "markdown",
      "metadata": {},
      "source": [
        "### **SPICE EVALUATION METRIC**\n",
        "To evaluate the quality of the image captioning model, we utilized the [*SPICE*]() metric, that stands for *Semantic Propositional Image Caption Evaluation*. <br>\n",
        "It is a  metric for evaluating the quality of automatically generating image captions comparing the semantic propositional content of a model-generated caption with that of a human-generated caption, which is more in line with how humans evaluate captions.\n",
        "*SPICE* is useful because it outperforms existing metrics such as *BLEU*, *METEOR*, *ROUGE-L* and *CIDEr* in terms of agreement with human evaluations of model-generated captions.  <br>\n",
        "This means that *SPICE* can better simulate human judgment and provide more accurate assessments of the quality of image captions generated by different models. <br> Additionally, this evaluation metric can answer specific questions about the strengths and weaknesses of different caption-generating models, such as which model is better at understanding colors or counting objects in an image.\n",
        "Spice works in this way: <br>\n",
        "**1. Scene Graph Generation:** the first step in the *SPICE* metric is to generate a scene graph for each caption. A scene graph is a structured representation of the objects, attributes, and relationships mentioned in a caption. To generate a scene graph, the caption is parsed using the [Stanford Scene Graph Parser](https://nlp.stanford.edu/software/scenegraph-parser.shtml) and PCFG dependency parser.\n",
        "\n",
        "**2. Object Overlap:** the next step is to compute object overlap between the model-generated caption and the human-generated caption. Object overlap measures how many objects are mentioned in both captions and how similar they are. Specifically, object overlap is computed as follows:\n",
        "\n",
        "   - For each object in the human-generated caption, find the most similar object in the model-generated caption based on string similarity.\n",
        "   - Compute a weighted average of the similarity scores for all matched objects.\n",
        "\n",
        "**3. Attribute Overlap:** the third step is to compute attribute overlap between the model-generated caption and the human-generated caption. Attribute overlap measures how many attributes are mentioned for each object and how similar they are. Specifically, attribute overlap is computed as follows:\n",
        "\n",
        "   - For each object in the human-generated caption, find all attributes mentioned for that object.\n",
        "   - For each matched pair of objects from step 2, find all attributes mentioned for both objects.\n",
        "   - Compute a weighted average of the similarity scores for all matched attributes.\n",
        "\n",
        "**4. Relationship Overlap:** The fourth step is to compute relationship overlap between the model-generated caption and the human-generated caption. Relationship overlap measures how many relationships are mentioned and how similar they are. Specifically, relationship overlap is computed as follows:\n",
        "\n",
        "   - For each relationship in the human-generated caption, find all pairs of matched objects that participate in that relationship.\n",
        "   - Compute a weighted average of the similarity scores for all matched relationships.\n",
        "\n",
        "**5. Saliency:** The final step is to compute saliency scores for each object and relationship mentioned in the captions. Saliency measures how important each object or relationship is to understanding the image. Specifically, saliency is computed as follows:\n",
        "\n",
        "   - For each object and relationship in the scene graph, compute a saliency score based on its frequency of occurrence in a large corpus of captions.\n",
        "   - Compute a weighted average of the saliency scores for all objects and relationships mentioned in the captions.\n",
        "\n",
        "**6. Overall Score:** The final step is to combine the object overlap, attribute overlap, relationship overlap, and saliency scores into an overall score that reflects how closely the model-generated caption matches the human-generated. \n",
        "\n",
        "The graph below displays the distribution of SPICE scores obtained.\n",
        "\n",
        "\n",
        "<img src='https://drive.google.com/uc?id=19P7agBn58cGSVJ05fDI89wjNeLA6Faz1' style=\"width: 40%\">\n",
        "\n"
      ]
    },
    {
      "attachments": {},
      "cell_type": "markdown",
      "metadata": {},
      "source": [
        "### Model definition"
      ]
    },
    {
      "attachments": {},
      "cell_type": "markdown",
      "metadata": {},
      "source": [
        "This proposed model changes the approach used to select the bounding box associated with the input sentence. The way that similarities are calculated is different from the previous models by generating a caption based on the cropped image and calculating the similarity with the input sentence. We from now on will keep to use stanza since it improves the baseline model and works really well for performances.</br>\n",
        "The model pipeline is the following:\n",
        "- Bounding boxes are extracted from the image using YOLO.\n",
        "- STANZA filters the bounding boxes that are not related to the subject of the sentence.\n",
        "- A caption is generated by the pre trained Vision Encoder Decoder model.\n",
        "- CLIP is used to compute the similarity between the sentence and the generated caption.\n",
        "- The bounding box with the highest similarity is selected as the final prediction."
      ]
    },
    {
      "attachments": {},
      "cell_type": "markdown",
      "metadata": {},
      "source": [
        "<img src= \"https://drive.google.com/uc?id=1zOt1AaD2IZjiB8lkjtXZVqliHnIbeAiN\" style=\"width: 80%;\">"
      ]
    },
    {
      "cell_type": "code",
      "execution_count": 68,
      "metadata": {},
      "outputs": [],
      "source": [
        "# class definition for text variation model\n",
        "class VisualGrounding_ttt(torch.nn.Module):\n",
        "    def __init__(self, yolo_version, clip_version, image_captioner_path, local_path, img_path):\n",
        "        super(VisualGrounding_ttt, self).__init__()\n",
        "        self.device = torch.device('cuda' if torch.cuda.is_available() else 'cpu')\n",
        "\n",
        "        self.local_path = local_path\n",
        "        self.img_path = img_path\n",
        "\n",
        "        # initialize models\n",
        "        self.yolo = torch.hub.load('ultralytics/yolov5', yolo_version, pretrained=True).to(self.device)\n",
        "        self.clip, self.preprocess = clip.load(clip_version)\n",
        "\n",
        "        # text to text section\n",
        "        self.text_tokenizer = RobertaTokenizerFast.from_pretrained('roberta-base', max_length=20)\n",
        "        self.text_feature_extractor = ViTFeatureExtractor.from_pretrained('google/vit-base-patch16-224-in21k')\n",
        "        self.text_model = VisionEncoderDecoderModel.from_pretrained(image_captioner_path)\n",
        "        self.text_model.to(self.device)\n",
        "\n",
        "        self.name = \"text to image\"\n",
        "        # define metrics\n",
        "        self.metrics = Metrics(self.clip, self.name)\n",
        "\n",
        "    def forward(self, img_path, sentence):\n",
        "        similarity = torch.tensor([]).to(self.device)\n",
        "\n",
        "        yolo_output = self.yolo(self.local_path+img_path)\n",
        "        original_img = Image.open(self.local_path+img_path).convert(\"RGB\")\n",
        "\n",
        "        root = get_root(yolo_output, sentence, self.clip, self.yolo)\n",
        "\n",
        "        sentence_tokens = clip.tokenize([sentence]).to(device=self.device)\n",
        "        embedding_sent = self.clip.encode_text(sentence_tokens).to(self.device)\n",
        "\n",
        "        no_bbox=True\n",
        "        for i in range(len(yolo_output.xyxy[0])):\n",
        "            if root != \"empty\" and self.yolo.names[int(yolo_output.pred[0][i][5])] != root:\n",
        "                similarity = torch.cat((similarity, torch.zeros(1).to(self.device)), 0)\n",
        "                no_bbox=False\n",
        "                continue\n",
        "\n",
        "            with torch.no_grad():\n",
        "                no_bbox=False\n",
        "                #crop the image based on the yolo output\n",
        "                img_cropped = crop_yolo(yolo_output, original_img, i)\n",
        "\n",
        "                #generate caption\n",
        "                features = self.text_feature_extractor(img_cropped, return_tensors=\"pt\").pixel_values.to(self.device)\n",
        "                generated = self.text_model.generate(features)[0].to(self.device)\n",
        "                caption = self.text_tokenizer.decode(generated)\n",
        "                caption = clear_caption(caption)\n",
        "\n",
        "                caption = clip.tokenize([caption]).to(device=self.device)\n",
        "                enbedding_gen = self.clip.encode_text(caption).to(self.device)\n",
        "\n",
        "                #cosine similarity bwteen caption and sentence\n",
        "                similarity = torch.cat((similarity, torch.nn.functional.cosine_similarity(enbedding_gen, embedding_sent)), 0)\n",
        "            \n",
        "        if no_bbox:\n",
        "            #set bbox to the whole image\n",
        "            max_bbox = [0, 0, original_img.width, original_img.height]\n",
        "            max_image = original_img\n",
        "            return max_bbox, max_image\n",
        "        \n",
        "        #argmax to get the most similar caption\n",
        "        index = torch.argmax(similarity)\n",
        "        max_bbox = yolo_output.xyxy[0][index]\n",
        "        max_image = crop_yolo(yolo_output, original_img, index)\n",
        "\n",
        "        return max_bbox, max_image\n",
        "\n",
        "    def evaluate(self, img_path, sentence, gt, original_img):\n",
        "        bbox = convert_bbox(gt, original_img)\n",
        "        gt_crop = original_img.crop(bbox)\n",
        "        prediction_bbox, prediction_img = self.forward(img_path, sentence)\n",
        "        self.metrics.update(prediction_bbox, bbox, prediction_img, gt_crop)\n",
        "        return prediction_bbox, prediction_img\n",
        "\n",
        "    def reset_metrics(self):\n",
        "        self.metrics.reset()\n",
        "\n",
        "    def get_metrics(self):\n",
        "        return self.metrics.to_string()\n",
        "    \n",
        "    def save_metrics(self):\n",
        "        self.metrics.save()"
      ]
    },
    {
      "attachments": {},
      "cell_type": "markdown",
      "metadata": {},
      "source": [
        "### Resource andtime Optimization"
      ]
    },
    {
      "attachments": {},
      "cell_type": "markdown",
      "metadata": {},
      "source": [
        "The text to text model takes approximately 4 hours to run on the validation set so we decided to split the computation by generating all the captions for the validation set saving them into a json file and then running the model. This way we can run the model in 30 minutes.\n",
        "This is not an optimal solution but it is the best we could do given the time and resources constraints."
      ]
    },
    {
      "cell_type": "code",
      "execution_count": 69,
      "metadata": {},
      "outputs": [],
      "source": [
        "\n",
        "class VisualGrounding_ttt_optimized(torch.nn.Module):\n",
        "    def __init__(self, yolo_version, clip_version, local_path, img_path):\n",
        "        super(VisualGrounding_ttt_optimized, self).__init__()\n",
        "        self.device = torch.device('cuda' if torch.cuda.is_available() else 'cpu')\n",
        "\n",
        "        self.local_path = local_path\n",
        "        self.img_path = img_path\n",
        "\n",
        "        # initialize models\n",
        "        self.yolo = torch.hub.load('ultralytics/yolov5', yolo_version, pretrained=True).to(self.device)\n",
        "        self.clip, self.preprocess = clip.load(clip_version)\n",
        "\n",
        "        self.name = \"text to image\"\n",
        "        # define metrics\n",
        "        self.metrics = Metrics(self.clip, self.name)\n",
        "\n",
        "        #load caption from json\n",
        "        self.captions = load_dataframe(caption_json)\n",
        "\n",
        "\n",
        "    def forward(self, img_path, sentence, index):\n",
        "        similarity = torch.tensor([]).to(self.device)\n",
        "\n",
        "        yolo_output = self.yolo(self.local_path+img_path)\n",
        "        original_img = Image.open(self.local_path+img_path).convert(\"RGB\")\n",
        "\n",
        "        root = get_root(yolo_output, sentence, self.clip, self.yolo)\n",
        "\n",
        "        sentence_tokens = clip.tokenize([sentence]).to(device=self.device)\n",
        "        embedding_sent = self.clip.encode_text(sentence_tokens).to(self.device)\n",
        "\n",
        "        no_bbox=True\n",
        "        bbox_id = 0\n",
        "        for i in range(len(yolo_output.xyxy[0])):\n",
        "            if root != \"empty\" and self.yolo.names[int(yolo_output.pred[0][i][5])] != root:\n",
        "                similarity = torch.cat((similarity, torch.zeros(1).to(self.device)), 0)\n",
        "                no_bbox=False\n",
        "                continue\n",
        "            \n",
        "            with torch.no_grad():\n",
        "                no_bbox=False\n",
        "                #crop the image based on the yolo output\n",
        "                caption = self.captions.iloc[index][\"sentences\"][bbox_id]\n",
        "                caption = clip.tokenize([caption]).to(device=self.device)\n",
        "                enbedding_gen = self.clip.encode_text(caption).to(self.device)\n",
        "\n",
        "                #cosine similarity bwteen caption and sentence\n",
        "                similarity = torch.cat((similarity, torch.nn.functional.cosine_similarity(enbedding_gen, embedding_sent)), 0)\n",
        "\n",
        "            bbox_id+=1\n",
        "\n",
        "        if no_bbox:\n",
        "            #set bbox to the whole image\n",
        "            max_bbox = [0, 0, original_img.width, original_img.height]\n",
        "            max_image = original_img\n",
        "            return max_bbox, max_image\n",
        "\n",
        "        #argmax to get the most similar caption\n",
        "        index = torch.argmax(similarity)\n",
        "        max_bbox = yolo_output.xyxy[0][index]\n",
        "        max_image = crop_yolo(yolo_output, original_img, index)\n",
        "\n",
        "        return max_bbox, max_image\n",
        "\n",
        "    def evaluate(self, img_path, sentence, gt, original_img, index):\n",
        "        bbox = convert_bbox(gt, original_img)\n",
        "        gt_crop = original_img.crop(bbox)\n",
        "        prediction_bbox, prediction_img = self.forward(img_path, sentence, index)\n",
        "        self.metrics.update(prediction_bbox, bbox, prediction_img, gt_crop)\n",
        "        return prediction_bbox, prediction_img\n",
        "\n",
        "    def reset_metrics(self):\n",
        "        self.metrics.reset()\n",
        "\n",
        "    def get_metrics(self):\n",
        "        return self.metrics.to_string()\n",
        "    \n",
        "    def save_metrics(self):\n",
        "        self.metrics.save()"
      ]
    },
    {
      "attachments": {},
      "cell_type": "markdown",
      "metadata": {},
      "source": [
        "## Stable diffusion model\n"
      ]
    },
    {
      "attachments": {},
      "cell_type": "markdown",
      "metadata": {},
      "source": [
        "In this proposed version, starting from the input captioning, we have considered using **Stable Diffusion** in the process of discriminating the bounding box. Before delving into the implementation of this solution, below is an introduction to how Stable Diffusion works.\n"
      ]
    },
    {
      "attachments": {},
      "cell_type": "markdown",
      "metadata": {},
      "source": [
        "### **What is Stable Diffusion?**"
      ]
    },
    {
      "attachments": {},
      "cell_type": "markdown",
      "metadata": {},
      "source": [
        "It is a **text-to-image model**: give it a **text prompt** and it will return an image matching the text. <br>\n",
        "Here an example of how it does work <br>\n",
        "<img src='https://drive.google.com/uc?id=1NAPD4WLEjGT3orZe3AqE6aN8jLpkMHV4' style=\"width: 50%\">"
      ]
    },
    {
      "attachments": {},
      "cell_type": "markdown",
      "metadata": {},
      "source": [
        "### **Diffusion Models**"
      ]
    },
    {
      "attachments": {},
      "cell_type": "markdown",
      "metadata": {},
      "source": [
        "Stable Diffusion belongs to a class of deep learning models called **Diffusion Models.** They are generative models, meaning they are designed to generate new data similar to what they have seen in training. <br>\n",
        "The model is based on two process: \n",
        "* Forward Diffusion\n",
        "* Reverse Diffusion\n",
        "\n",
        "**Forward Diffusion** <br>\n",
        "This process adds noise to a training image, gradually turning it into an uncharacteristic noisy one. \n",
        "Below is an example of an image undergoing forward diffusion. <br>\n",
        "<img src='https://drive.google.com/uc?id=10wKNn2adHGUb9ceXuUdAFmkMaGN8Nzwa' style=\"width: 50%\">\n",
        "\n",
        "\n",
        "**Reverse Diffusion** <br>\n",
        "Starting from a noisy image, reverse diffusion recovers the original one. <br>\n",
        "<img src='https://drive.google.com/uc?id=1sxYKCVgEt8Hr3Rzb8__NT0M6iJ578OKm' style=\"width: 50%\">\n",
        "\n",
        "**How training is done** <br>\n",
        "To reverse the diffusion, we need to know how much noise is added to an image. The answer is teaching a neural network model to predict the noise added. It is called the **noise predictor** and it is a [U-Net model](https://arxiv.org/abs/1505.04597). The training goes as follows.\n",
        "\n",
        "* Pick a training image;\n",
        "* Generate a random noise image;\n",
        "* Corrupt the training image by adding this noisy image up to a certain number of steps;\n",
        "* Teach the noise predictor to tell us how much noise was added. This is done by tuning its weights and showing it the correct answer.<br>\n",
        "\n",
        "After training, the noise predictor is capable of estimating the noise added to the image.\n",
        "Up to now the process involves generating a completely random image and requesting the noise predictor to identify the noise. The estimated noise is then subtracted from the original image, repeating this process multiple times. <br>\n",
        "<img src='https://drive.google.com/uc?id=1YyCxaPd6GFaJQDVaSP-zdQC-CAElp4CN' style=\"width: 50%\">"
      ]
    },
    {
      "attachments": {},
      "cell_type": "markdown",
      "metadata": {},
      "source": [
        "### **Stable Diffusion Model**"
      ]
    },
    {
      "attachments": {},
      "cell_type": "markdown",
      "metadata": {},
      "source": [
        "\n",
        "Stable Diffusion is a **latent diffusion model**. Instead of operating in the high-dimensional image space, it first compresses the image into the **latent space**. \n",
        "It is done using [Variational Autoencoder(VAEs)](https://arxiv.org/abs/1312.6114). <br>\n",
        "The latent space of Stable Diffusion model is 4x64x64, 48 times smaller than the image pixel space. All the forward and reverse diffusions we talked about are actually done in the latent space.\n",
        "\n",
        "So during training, instead of generating a noisy image, it generates a random tensor in latent space (latent noise). Instead of corrupting an image with noise, it corrupts the representation of the image in latent space with the latent noise. The reason for doing that is it is a lot faster since the latent space is smaller. <br>\n",
        "\n",
        "**Reverse Diffusion in latent space** <br>\n",
        "Here’s how latent reverse diffusion in Stable Diffusion works.\n",
        "* A random latent space matrix is generated.\n",
        "* The noise predictor estimates the noise of the latent matrix.\n",
        "* The estimated noise is then subtracted from the latent matrix.\n",
        "* Steps 2 and 3 are repeated up to specific sampling steps.\n",
        "* The decoder of VAE converts the latent matrix to the final image.\n",
        "\n",
        "**Conditioning** <br>\n",
        "The purpose of conditioning is to steer the noise predictor so that the predicted noise will give us what we want after subtracting from the image. <br>\n",
        "Below is an overview of how a text prompt is processed and fed into the noise predictor. **Tokenizer** first converts each word in tokens. Each token is then converted to a 768-value **embedding** vector. The embeddings are then processed by the text transformer and are ready to be consumed by the noise predictor. <br>\n",
        "<img src='https://drive.google.com/uc?id=1yHryHT8IutyeG46PtPvnu0PSpQ0KqZHs' style=\"width: 50%\">\n",
        "\n",
        "\n",
        "**Tokenizer:** The text prompt is first tokenized by a CLIP tokenizer: Stable Diffusion model is limited to using 75 tokens in a prompt. <br>\n",
        "**Embedding:** Stable diffusion v1 uses Open AI’s ViT-L/14 Clip model. Embedding is a 768-value vector. Embedding is fixed by the CLIP model, which is learned during training. <br>\n",
        "**Text Transformer:** The embedding needs to be further processed by the text transformer before feeding into the noise predictor. The transformer not only further processes the data but also provides a mechanism to include different conditioning modalities. <br>\n",
        "**Cross-Attention:** The output of the text transformer is used multiple times by the noise predictor throughout the U-Net. The U-Net consumes it by a cross-attention mechanism, that's where the prompt meets the image. \n"
      ]
    },
    {
      "cell_type": "code",
      "execution_count": null,
      "metadata": {},
      "outputs": [],
      "source": []
    },
    {
      "attachments": {},
      "cell_type": "markdown",
      "metadata": {},
      "source": [
        "### **Classifier-Free Guidance (CFG)**"
      ]
    },
    {
      "attachments": {},
      "cell_type": "markdown",
      "metadata": {},
      "source": [
        "**Classifier guidance** <br>\n",
        "\n",
        "[Classifier guidance](https://arxiv.org/abs/1312.6114) is a way to incorporate image labels in diffusion models. The label is used to guide the diffusion process. The classifier guidance scale is a parameter for controlling how closely should the diffusion process follow the label.\n",
        "\n",
        "For example  Suppose there are 3 groups of images with labels “cat”, “dog”, and “human”. If the diffusion is unguided, the model will draw samples from each group’s total population, but sometimes it may draw images that could fit two labels, e.g. a boy petting a dog.\n",
        "With high classifier guidance, the images produced by the diffusion model would be biased toward the extreme or unambiguous examples. If you ask the model for a cat, it will return an image that is unambiguously a cat and nothing else. <br>\n",
        "**The classifier guidance** scale controls how closely the guidance is followed. <br>\n",
        "consumed by the noise predictor. <br>\n",
        "<img src='https://drive.google.com/uc?id=1xU0Y8A9kesgAeX7ustn8doEg-cQBa--N' style=\"width: 50%\"> <br>\n",
        "In the figure above, the sampling on the right has a higher classifier guidance scale than the one in the middle. In practice, this scale value is simply the multiplier to the drift term toward the data with that label. <br>\n",
        "\n",
        "**Classifier-free guidance** <br>\n",
        "Although classifier guidance achieved record-breaking performance, it needs an extra model to provide that guidance. This has presented some difficulties in training. <br>\n",
        "[Classifier-free guidance](https://arxiv.org/abs/2207.12598), in its authors’ terms, is a way to achieve *“classifier guidance without a classifier”*. Instead of using class labels and a separate model for guidance, they proposed to use image captions and train a conditional diffusion model. <br>\n",
        "They put the classifier part as conditioning of the noise predictor U-Net, achieving the so-called *“classifier-free”* (i.e. without a separate image classifier) guidance in image generation.\n",
        "The text prompt provides this guidance in text-to-image. <br>\n",
        "In summary, **Classifier-free guidance (CFG) scale** is a value that controls how much the text prompt conditions the diffusion process. The image generation is unconditioned (i.e. the prompt is ignored) when it is set to 0. A higher value steers the diffusion towards the prompt. <br>\n"
      ]
    },
    {
      "attachments": {},
      "cell_type": "markdown",
      "metadata": {},
      "source": [
        "The stable diffsuion model that has been used is Stable Diffusion v1.4 which is trained with: \n",
        "* 237k steps at resolution 256×256 on [laion2B-en](https://huggingface.co/datasets/laion/laion2B-en) dataset. \n",
        "* 194k steps at resolution 512×512 on [laion-high-resolution](https://huggingface.co/datasets/laion/laion-high-resolution).\n",
        "* 225k steps at 512×512 on [laion-aesthetics v2 5+](https://laion.ai/blog/laion-aesthetics/), with 10% dropping of text conditioning.\n",
        "\n",
        "Since Stable Diffusion relies on text prompts, we have investigated the best type of prompt to generate images that closely resemble the style of those in the dataset, resulting in adopting a prompt structure like this for each generation process: \n",
        "\n",
        "\"**Use deep learning algorithms to generate a hyper-realistic portrait of a** `input caption `. **Use advanced image processing techniques to make the image appear as if it were a photograph.\"**"
      ]
    },
    {
      "attachments": {},
      "cell_type": "markdown",
      "metadata": {},
      "source": [
        "To ensure that the bounding boxes obtained from YOLO align with CLIP's predefined input size of 224x224, we need to preprocess them. If we directly feed them into the CLIP encoder without any adjustments, the bounding boxes would be stretched and enlarged, resulting in a loss of important information. However, we want to preserve all the details in our images.\n",
        "\n",
        "To address this, we decided to apply padding to the images, allowing us to resize them to 224x224 while maintaining the integrity of the information. The color used for padding is determined by the mean value of the pixel colors in the image. This approach not only helps reduce information loss but also ensures that no additional noise or unrelated information is introduced.\n",
        "\n",
        "The method of applying padding varies depending on the size of the image:\n",
        "- If the image has one of the two dimensions larger than 224, we create a square image with the size of the larger between width and height of the image, and with colour as the mean value of the colors. We then put our starting image at the center, and in the end it is resized to 224x224\n",
        "- If both the dimensions are lower than 224, the original image is just padded\n",
        "\n",
        "An example of the results we obtain is the following:\n",
        "\n",
        "![picture](https://drive.google.com/uc?id=1UgdwmBkeVIV0Zz21nKdJpYZ2NEQfk229)\n"
      ]
    },
    {
      "attachments": {},
      "cell_type": "markdown",
      "metadata": {},
      "source": [
        "### Read stable diffusion images"
      ]
    },
    {
      "attachments": {},
      "cell_type": "markdown",
      "metadata": {},
      "source": [
        "The process_stable_images function is used to read the stable diffusione generated images in order to reduce the duration of the testing process. The images that the function reads have been created using the following code:"
      ]
    },
    {
      "cell_type": "code",
      "execution_count": null,
      "metadata": {},
      "outputs": [],
      "source": [
        "\n",
        "# code to create stable diffusion images\n",
        "'''\n",
        "# install and import dependencies\n",
        "! pip install diffusers==0.11.1\n",
        "! pip install transformers scipy ftfy accelerate\n",
        "import torch\n",
        "from diffusers import StableDiffusionPipeline\n",
        "from diffusers import DPMSolverMultistepScheduler\n",
        "# import stable_diffusion pipeline\n",
        "# safety checker is used to check if the image is safe to use, in our case we remove it in order to avoid having black images\n",
        "pipe = StableDiffusionPipeline.from_pretrained(\"CompVis/stable-diffusion-v1-4\", torch_dtype=torch.float16,safety_checker = None)\n",
        "pipe = pipe.to(\"cuda\")\n",
        "# generate three images for each of the \n",
        "for i in range(0,len(dataset)):\n",
        "  print(i)\n",
        "  prompt= 'Use deep learning algorithms to generate a hyper-realistic image of '+   dataset.iloc[i][\"sentences\"][\"raw\"] +' Use advanced image processing techniques to make the image appear better'\n",
        "  \n",
        "  stable_input = pipe(prompt,num_inference_steps=100).images[0]  # image here is in [PIL format](https://pillow.readthedocs.io/en/stable/)\n",
        "  stable_input2 = pipe(prompt,num_inference_steps=100).images[0]  # image here is in [PIL format](https://pillow.readthedocs.io/en/stable/)\n",
        "  stable_input3 = pipe(prompt,num_inference_steps=100).images[0]  # image here is in [PIL format](https://pillow.readthedocs.io/en/stable/)\n",
        "\n",
        "  stable_input.save(\"/content/drive/MyDrive/stable_diffusion_images_v2.1/stable_diffusion_\"+str(i)+\"_1.jpg\") # Image saving to another directory\n",
        "  stable_input2.save(\"/content/drive/MyDrive/stable_diffusion_images_v2.1/stable_diffusion_\"+str(i)+\"_2.jpg\") # Image saving to another directory\n",
        "  stable_input3.save(\"/content/drive/MyDrive/stable_diffusion_images_v2.1/stable_diffusion_\"+str(i)+\"_3.jpg\") # Image saving to another directory\n",
        "'''"
      ]
    },
    {
      "cell_type": "code",
      "execution_count": 70,
      "metadata": {},
      "outputs": [],
      "source": [
        "def process_stable_images(index,clip_model, device):\n",
        "  stable_input1=Image.open(stable_images_path+\"stable_diffusion_\"+str(index)+\"_1.jpg\")\n",
        "  stable_input2=Image.open(stable_images_path+\"stable_diffusion_\"+str(index)+\"_2.jpg\")\n",
        "  stable_input3=Image.open(stable_images_path+\"stable_diffusion_\"+str(index)+\"_3.jpg\")\n",
        "  \n",
        "  \n",
        "  \n",
        "  with torch.no_grad():\n",
        "    convert_tensor = transforms.ToTensor()\n",
        "\n",
        "    stable_input1=stable_input1.resize([224,224])   \n",
        "    stable_input2=stable_input2.resize([224,224])   \n",
        "    stable_input3=stable_input3.resize([224,224]) \n",
        "\n",
        "    image_stable1=torch.tensor(np.stack(convert_tensor(stable_input1))).to(device)   \n",
        "    image_stable2=torch.tensor(np.stack(convert_tensor(stable_input2))).to(device) \n",
        "    image_stable3=torch.tensor(np.stack(convert_tensor(stable_input3))).to(device) \n",
        "    \n",
        "    img_tens = torch.stack([image_stable1, image_stable2, image_stable3])\n",
        "    \n",
        "    stable_features= clip_model.encode_image(img_tens).float()\n",
        "\n",
        "  return stable_features\n"
      ]
    },
    {
      "attachments": {},
      "cell_type": "markdown",
      "metadata": {},
      "source": [
        "### Model implementation"
      ]
    },
    {
      "attachments": {},
      "cell_type": "markdown",
      "metadata": {},
      "source": [
        "This fourth propsed model uses the same approach as the third one (text-to-text), but with images. Differently from the text to text approach stable diffusion being stocastic allows us to generate multiple images from the same caption allowing for better robustness since sometimes it generates not very good images.\n",
        "\n",
        "The model pipeline is defined as follows:\n",
        "* We use stable diffusion to generate three images from the input caption.\n",
        "* Bounding boxes are extracted from the image using YOLO.\n",
        "* STANZA filters the bounding boxes that are not related to the subject of the sentence.\n",
        "* CLIP is used to compute the similarity between the image cropped and the generated images.\n",
        "* For each extracted bounding box, its similarity with the generated images is calculated. For each of the three generated images, the bounding box with the highest similarity score is taken into account. If a bounding box achieves the highest similarity score at least twice, it is chosen as the final prediction. If no bounding box meets this criterion, the selected bounding box is the one with the overall highest similarity value.\n",
        "\n",
        "<img src= \"https://drive.google.com/uc?id=1KczXixTx_gnayX4rijnl6y4CWm0k7ziP\" style=\"width: 80%;\">"
      ]
    },
    {
      "attachments": {},
      "cell_type": "markdown",
      "metadata": {},
      "source": [
        "For the implementation we directly went into the optimized approach since to generate 3 images colab takes around 30 seconds makeing the validation time unfeasible (more than 40 hours). Like the last model we generated all the images previously and imported them into the model forward."
      ]
    },
    {
      "cell_type": "code",
      "execution_count": 71,
      "metadata": {},
      "outputs": [],
      "source": [
        "# class that defines the stable diffusion model\n",
        "class VisualGrounding_stable_diffusion(torch.nn.Module):\n",
        "    def __init__(self, yolo_version, clip_version, local_path, img_path):\n",
        "        super(VisualGrounding_stable_diffusion, self).__init__()\n",
        "        self.device = torch.device('cuda' if torch.cuda.is_available() else 'cpu')\n",
        "\n",
        "        self.local_path = local_path\n",
        "        self.img_path = img_path\n",
        "        # initialize models\n",
        "        self.yolo = torch.hub.load('ultralytics/yolov5', yolo_version, pretrained=True)\n",
        "        self.clip, self.preprocess = clip.load(clip_version)\n",
        "\n",
        "        self.name = \"stable_diffusion\"\n",
        "        self.metrics = Metrics(self.clip, self.name)\n",
        "\n",
        "\n",
        "    def forward(self, img_path, sentence,index):\n",
        "        similarities = []\n",
        "        bboxes = []\n",
        "        max_image = None\n",
        "        max_bbox = None\n",
        "\n",
        "        yolo_output = self.yolo(self.local_path+img_path)\n",
        "        original_img = Image.open(self.local_path+img_path).convert(\"RGB\")\n",
        "        root = get_root(yolo_output, sentence, self.clip, self.yolo)\n",
        "    \n",
        "        stable_features=process_stable_images(index, self.clip, self.device)\n",
        "\n",
        "        no_bbox=True\n",
        "        for i in range(len(yolo_output.xyxy[0])):\n",
        "            if root != \"empty\" and self.yolo.names[int(yolo_output.pred[0][i][5])] != root:\n",
        "                similarities.append(torch.zeros(3,1))\n",
        "                no_bbox=False\n",
        "                continue\n",
        "            \n",
        "            no_bbox=False\n",
        "            img_cropped = crop_yolo(yolo_output, original_img, i)\n",
        "            img_cropped = padd_image(img_cropped)\n",
        "            img = self.preprocess(img_cropped).cuda().unsqueeze(0)\n",
        "            \n",
        "            with torch.no_grad():\n",
        "                image_features = self.clip.encode_image(img).float()\n",
        "\n",
        "                image_features /= image_features.norm(dim=-1, keepdim=True)\n",
        "                similarity = stable_features.cpu().numpy() @ image_features.cpu().numpy().T\n",
        "                similarity = similarity.reshape(3, 1)\n",
        "\n",
        "                similarities.append(torch.tensor(similarity))\n",
        "                bboxes.append((yolo_output.xyxy[0][i][0].cpu().numpy(), yolo_output.xyxy[0][i][1].cpu().numpy(), yolo_output.xyxy[0][i][2].cpu().numpy(), yolo_output.xyxy[0][i][3].cpu().numpy()))\n",
        "\n",
        "        if no_bbox:\n",
        "            similarities.append(torch.zeros(3,1))\n",
        "            max_bbox = [0, 0, original_img.width, original_img.height]\n",
        "            max_bbox = torch.tensor(max_bbox)\n",
        "            max_image = original_img\n",
        "            return max_bbox, max_image\n",
        "        \n",
        "        #best of 3 approach\n",
        "        stacked_similarity = torch.cat(similarities, dim=1)\n",
        "        max_indices = torch.argmax(stacked_similarity, dim=1)\n",
        "        max_count = torch.bincount(max_indices)\n",
        "    \n",
        "        #parity case\n",
        "        if torch.max(max_count) == 1:\n",
        "          column_means = torch.mean(stacked_similarity, dim=0)\n",
        "          best_bbox = torch.argmax(column_means)\n",
        "        else:\n",
        "          best_bbox = torch.argmax(max_count)\n",
        "\n",
        "        max_bbox_new = yolo_output.xyxy[0][best_bbox] \n",
        "        max_image_new = img_cropped = crop_yolo(yolo_output, original_img, best_bbox)\n",
        "\n",
        "        return max_bbox_new, max_image_new\n",
        "\n",
        "    def evaluate(self, img_path, sentence, gt, original_img, index):\n",
        "        bbox = convert_bbox(gt, original_img)\n",
        "        gt_crop = original_img.crop(bbox)\n",
        "        prediction_bbox, prediction_img = self.forward(img_path, sentence,index)\n",
        "        self.metrics.update(prediction_bbox, bbox, prediction_img, gt_crop)\n",
        "        return prediction_bbox, prediction_img\n",
        "\n",
        "    def reset_metrics(self):\n",
        "        self.metrics.reset()\n",
        "\n",
        "    def get_metrics(self):\n",
        "        return self.metrics.to_string()\n",
        "    \n",
        "    def save_metrics(self):\n",
        "        self.metrics.save()"
      ]
    },
    {
      "attachments": {},
      "cell_type": "markdown",
      "metadata": {},
      "source": [
        "## Mixed"
      ]
    },
    {
      "attachments": {},
      "cell_type": "markdown",
      "metadata": {},
      "source": [
        "The fifth propsed model combine the approaches of the previous models by calculating the similarity with text to text and image to image and combines them. \n",
        "\n",
        "The model pipeline is the following:\n",
        "* We use stable diffusion to generate three images from the input caption.\n",
        "* Bounding boxes are extracted from the image using YOLO.\n",
        "* STANZA filters the bounding boxes that are not related to the subject of the sentence.\n",
        "* A caption is generated by the pre trained Vision Encoder Decoder model.\n",
        "* CLIP is used to compute the similarity between the sentence and the generated caption.\n",
        "* CLIP is used to compute the similarity between the image cropped and the generated images.\n",
        "* The two similarities are combined using an equal weighted sum.\n",
        "* The bounding box with the highest similarity value among all is selected as the final prediction.\n",
        "\n",
        "<img src= \"https://drive.google.com/uc?id=1KgeXPgnii3gRUWFg4fyvGk3pMrMnOhW9\" style=\"width: 80%;\">\n",
        "\n"
      ]
    },
    {
      "cell_type": "code",
      "execution_count": 72,
      "metadata": {},
      "outputs": [],
      "source": [
        "class VisualGrounding_mixed(torch.nn.Module):\n",
        "    def __init__(self, yolo_version, clip_version, image_captioner_path, local_path, img_path):\n",
        "        super(VisualGrounding_mixed, self).__init__()\n",
        "        self.device = torch.device('cuda' if torch.cuda.is_available() else 'cpu')\n",
        "\n",
        "        self.local_path = local_path\n",
        "        self.img_path = img_path\n",
        "        # initialize models\n",
        "        self.yolo = torch.hub.load('ultralytics/yolov5', yolo_version, pretrained=True)\n",
        "        self.clip, self.preprocess = clip.load(clip_version)\n",
        "\n",
        "        self.text_tokenizer = RobertaTokenizerFast.from_pretrained('roberta-base', max_length=20)\n",
        "        self.text_feature_extractor = ViTFeatureExtractor.from_pretrained('google/vit-base-patch16-224-in21k')\n",
        "        self.text_model = VisionEncoderDecoderModel.from_pretrained(image_captioner_path)\n",
        "        self.text_model.to(self.device)\n",
        "\n",
        "        self.name = \"mixed\"\n",
        "        self.metrics = Metrics(self.clip, self.name)\n",
        "\n",
        "\n",
        "    def forward(self, img_path, sentence,index):\n",
        "        similarities = []\n",
        "        bboxes = []\n",
        "        max_image = None\n",
        "        max_bbox = None\n",
        "\n",
        "        yolo_output = self.yolo(self.local_path+img_path)\n",
        "\n",
        "        original_img = Image.open(self.local_path+img_path).convert(\"RGB\")\n",
        "\n",
        "        root = get_root(yolo_output, sentence, self.clip, self.yolo)\n",
        "        \n",
        "        sentence_tokens = clip.tokenize([sentence]).to(device=self.device)\n",
        "        embedding_sent = self.clip.encode_text(sentence_tokens).to(self.device)\n",
        "\n",
        "        stable_features=process_stable_images(index, self.clip, self.device)\n",
        "\n",
        "        no_bbox=True\n",
        "\n",
        "        for i in range(len(yolo_output.xyxy[0])):\n",
        "            if root != \"empty\" and self.yolo.names[int(yolo_output.pred[0][i][5])] != root:\n",
        "                similarities.append(torch.zeros(3,1))\n",
        "                no_bbox=False\n",
        "                continue\n",
        "            \n",
        "            no_bbox=False\n",
        "            img_cropped = crop_yolo(yolo_output, original_img, i)\n",
        "\n",
        "\n",
        "            img_cropped = padd_image(img_cropped)\n",
        "            img = self.preprocess(img_cropped).cuda().unsqueeze(0)\n",
        "            \n",
        "            with torch.no_grad():\n",
        "                image_features = self.clip.encode_image(img).float()\n",
        "\n",
        "                image_features /= image_features.norm(dim=-1, keepdim=True)\n",
        "                similarity_iti = stable_features.cpu().numpy() @ image_features.cpu().numpy().T\n",
        "                similarity_iti = similarity_iti.reshape(3, 1)\n",
        "\n",
        "                \n",
        "                features = self.text_feature_extractor(img_cropped, return_tensors=\"pt\").pixel_values.to(self.device)\n",
        "                generated = self.text_model.generate(features)[0].to(self.device)\n",
        "                caption = self.text_tokenizer.decode(generated)\n",
        "                caption = clear_caption(caption)\n",
        "                caption = clip.tokenize([caption]).to(device=self.device)\n",
        "                enbedding_gen = self.clip.encode_text(caption).to(self.device)\n",
        "\n",
        "                #cosine similarity bwteen caption and sentence\n",
        "                cos_sim=torch.nn.functional.cosine_similarity(enbedding_gen, embedding_sent)\n",
        "                \n",
        "                cos_sim_value = cos_sim.item()\n",
        "                similarity= 0.5*similarity_iti + 0.5* cos_sim_value\n",
        "\n",
        "                similarities.append(torch.tensor(similarity))\n",
        "\n",
        "                bboxes.append((yolo_output.xyxy[0][i][0].cpu().numpy(), yolo_output.xyxy[0][i][1].cpu().numpy(), yolo_output.xyxy[0][i][2].cpu().numpy(), yolo_output.xyxy[0][i][3].cpu().numpy()))\n",
        "\n",
        "\n",
        "        if no_bbox:\n",
        "            similarities.append(torch.zeros(3,1))\n",
        "            max_bbox = [0, 0, original_img.width, original_img.height]\n",
        "            max_bbox = torch.tensor(max_bbox)\n",
        "            max_image = original_img\n",
        "            return max_bbox, max_image\n",
        "            \n",
        "        stacked_similarity = torch.cat(similarities, dim=1)\n",
        "        max_indices = torch.argmax(stacked_similarity, dim=1)\n",
        "        max_count = torch.bincount(max_indices)\n",
        "    \n",
        "        #parity case\n",
        "        if torch.max(max_count) == 1:\n",
        "          column_means = torch.mean(stacked_similarity, dim=0)\n",
        "          best_bbox = torch.argmax(column_means)\n",
        "        else:\n",
        "          best_bbox = torch.argmax(max_count)\n",
        "\n",
        "        \n",
        "        max_bbox_new = yolo_output.xyxy[0][best_bbox] \n",
        "        max_image_new = img_cropped = crop_yolo(yolo_output, original_img, best_bbox)\n",
        "\n",
        "        return max_bbox_new, max_image_new\n",
        "\n",
        "\n",
        "    def evaluate(self, img_path, sentence, gt, original_img, index):\n",
        "        bbox = convert_bbox(gt, original_img)\n",
        "        gt_crop = original_img.crop(bbox)\n",
        "        prediction_bbox, prediction_img = self.forward(img_path, sentence,index)\n",
        "        self.metrics.update(prediction_bbox, bbox, prediction_img, gt_crop)\n",
        "        return prediction_bbox, prediction_img\n",
        "\n",
        "    def reset_metrics(self):\n",
        "        self.metrics.reset()\n",
        "\n",
        "    def get_metrics(self):\n",
        "        return self.metrics.to_string()\n",
        "        \n",
        "    def save_metrics(self):\n",
        "        self.metrics.save()"
      ]
    },
    {
      "cell_type": "code",
      "execution_count": 73,
      "metadata": {},
      "outputs": [],
      "source": [
        "class VisualGrounding_mixed_optim(torch.nn.Module):\n",
        "    def __init__(self, yolo_version, clip_version, local_path, img_path):\n",
        "        super(VisualGrounding_mixed_optim, self).__init__()\n",
        "        self.device = torch.device('cuda' if torch.cuda.is_available() else 'cpu')\n",
        "\n",
        "        self.local_path = local_path\n",
        "        self.img_path = img_path\n",
        "        # initialize models\n",
        "        self.yolo = torch.hub.load('ultralytics/yolov5', yolo_version, pretrained=True)\n",
        "        self.clip, self.preprocess = clip.load(clip_version)\n",
        "        \n",
        "        self.name = \"mixed\"\n",
        "        self.metrics = Metrics(self.clip, self.name)\n",
        "        self.captions = load_dataframe(caption_json)\n",
        "\n",
        "    def forward(self, img_path, sentence,index):\n",
        "        similarities = []\n",
        "        bboxes = []\n",
        "        max_image = None\n",
        "        max_bbox = None\n",
        "\n",
        "        yolo_output = self.yolo(self.local_path+img_path)\n",
        "\n",
        "        original_img = Image.open(self.local_path+img_path).convert(\"RGB\")\n",
        "\n",
        "        root = get_root(yolo_output, sentence, self.clip, self.yolo)\n",
        "        \n",
        "        sentence_tokens = clip.tokenize([sentence]).to(device=self.device)\n",
        "        embedding_sent = self.clip.encode_text(sentence_tokens).to(self.device)\n",
        "\n",
        "        stable_features=process_stable_images(index, self.clip, self.device)\n",
        "\n",
        "        no_bbox=True\n",
        "        bbox_id = 0\n",
        "        for i in range(len(yolo_output.xyxy[0])):\n",
        "            if root != \"empty\" and self.yolo.names[int(yolo_output.pred[0][i][5])] != root:\n",
        "                similarities.append(torch.zeros(3,1))\n",
        "                no_bbox=False\n",
        "                continue\n",
        "            \n",
        "            no_bbox=False\n",
        "            img_cropped = crop_yolo(yolo_output, original_img, i)\n",
        "\n",
        "\n",
        "            img_cropped = padd_image(img_cropped)\n",
        "            img = self.preprocess(img_cropped).cuda().unsqueeze(0)\n",
        "            \n",
        "            with torch.no_grad():\n",
        "                image_features = self.clip.encode_image(img).float()\n",
        "\n",
        "                image_features /= image_features.norm(dim=-1, keepdim=True)\n",
        "                similarity_iti = stable_features.cpu().numpy() @ image_features.cpu().numpy().T\n",
        "                similarity_iti = similarity_iti.reshape(3, 1)\n",
        "\n",
        "                caption = self.captions.iloc[index][\"sentences\"][bbox_id]\n",
        "\n",
        "                caption = clear_caption(caption)\n",
        "                caption = clip.tokenize([caption]).to(device=self.device)\n",
        "                enbedding_gen = self.clip.encode_text(caption).to(self.device)\n",
        "\n",
        "                #cosine similarity bwteen caption and sentence\n",
        "                cos_sim=torch.nn.functional.cosine_similarity(enbedding_gen, embedding_sent)\n",
        "                \n",
        "                cos_sim_value = cos_sim.item()\n",
        "                similarity= 0.5*similarity_iti + 0.5* cos_sim_value\n",
        "\n",
        "                similarities.append(torch.tensor(similarity))\n",
        "\n",
        "                bboxes.append((yolo_output.xyxy[0][i][0].cpu().numpy(), yolo_output.xyxy[0][i][1].cpu().numpy(), yolo_output.xyxy[0][i][2].cpu().numpy(), yolo_output.xyxy[0][i][3].cpu().numpy()))\n",
        "\n",
        "            bbox_id+=1\n",
        "\n",
        "        if no_bbox:\n",
        "            similarities.append(torch.zeros(3,1))\n",
        "            max_bbox = [0, 0, original_img.width, original_img.height]\n",
        "            max_bbox = torch.tensor(max_bbox)\n",
        "            max_image = original_img\n",
        "            return max_bbox, max_image\n",
        "            \n",
        "        stacked_similarity = torch.cat(similarities, dim=1)\n",
        "        max_indices = torch.argmax(stacked_similarity, dim=1)\n",
        "        max_count = torch.bincount(max_indices)\n",
        "    \n",
        "        #parity case\n",
        "        if torch.max(max_count) == 1:\n",
        "          column_means = torch.mean(stacked_similarity, dim=0)\n",
        "          best_bbox = torch.argmax(column_means)\n",
        "        else:\n",
        "          best_bbox = torch.argmax(max_count)\n",
        "\n",
        "        \n",
        "        max_bbox_new = yolo_output.xyxy[0][best_bbox] \n",
        "        max_image_new = img_cropped = crop_yolo(yolo_output, original_img, best_bbox)\n",
        "\n",
        "        return max_bbox_new, max_image_new\n",
        "\n",
        "\n",
        "    def evaluate(self, img_path, sentence, gt, original_img, index):\n",
        "        bbox = convert_bbox(gt, original_img)\n",
        "        gt_crop = original_img.crop(bbox)\n",
        "        prediction_bbox, prediction_img = self.forward(img_path, sentence,index)\n",
        "        self.metrics.update(prediction_bbox, bbox, prediction_img, gt_crop)\n",
        "        return prediction_bbox, prediction_img\n",
        "\n",
        "    def reset_metrics(self):\n",
        "        self.metrics.reset()\n",
        "\n",
        "    def get_metrics(self):\n",
        "        return self.metrics.to_string()\n",
        "    \n",
        "    def save_metrics(self):\n",
        "        self.metrics.save()"
      ]
    },
    {
      "attachments": {},
      "cell_type": "markdown",
      "metadata": {},
      "source": [
        "## Mixed plus"
      ]
    },
    {
      "attachments": {},
      "cell_type": "markdown",
      "metadata": {},
      "source": [
        "The last proposed model is a baseline that uses the same approach as the fifth one but with the baseline model. We have seen trought the results the strenghts of the baseline model and we wanted to see if it was possible to improve the results by combining all the approaches by a weighted sum of all the scores.\n",
        "\n",
        "The model pipeline is the following:\n",
        "* We use stable diffusion to generate three images from the input caption.\n",
        "* Bounding boxes are extracted from the image using YOLO.\n",
        "* STANZA filters the bounding boxes that are not related to the subject of the sentence.\n",
        "* A caption is generated by the pre trained Vision Encoder Decoder.\n",
        "* CLIP is used to compute the similarity between the sentence and the generated caption.\n",
        "* CLIP is used to compute the similarity between the image cropped and the generated images.\n",
        "* CLIP is used to compute the similarity between the sentence and the cropped image.\n",
        "* The three similarities are combined using a weighted sum.\n",
        "* The bounding box with the highest similarity value among all is selected as the final prediction.\n",
        "\n",
        "<img src= \"https://drive.google.com/uc?id=1Q3UJIQjykPLrS7AZD7Gv6Goy6kxAp5A6\" style=\"width: 80%;\">\n",
        "\n"
      ]
    },
    {
      "cell_type": "code",
      "execution_count": 74,
      "metadata": {},
      "outputs": [],
      "source": [
        "class VisualGrounding_base_mixed(torch.nn.Module):\n",
        "    def __init__(self, yolo_version, clip_version, local_path, img_path):\n",
        "        super(VisualGrounding_base_mixed, self).__init__()\n",
        "        self.device = torch.device('cuda' if torch.cuda.is_available() else 'cpu')\n",
        "        self.local_path = local_path\n",
        "        self.img_path = img_path\n",
        "\n",
        "        # initialize models\n",
        "        self.yolo = torch.hub.load('ultralytics/yolov5', yolo_version, pretrained=True)\n",
        "        self.clip, self.preprocess = clip.load(clip_version)\n",
        "\n",
        "        self.name = \"base_mixed\"\n",
        "        self.metrics = Metrics(self.clip, self.name)\n",
        "        self.captions = load_dataframe(caption_json)\n",
        "\n",
        "\n",
        "    def forward(self, img_path, sentence, index):\n",
        "        similarities = []\n",
        "        bboxes = []\n",
        "        max_image = None\n",
        "        max_bbox = None\n",
        "\n",
        "        yolo_output = self.yolo(self.local_path+img_path)\n",
        "\n",
        "        original_img = Image.open(self.local_path+img_path).convert(\"RGB\")\n",
        "\n",
        "        root = get_root(yolo_output, sentence, self.clip, self.yolo)\n",
        "        \n",
        "        sentence_tokens = clip.tokenize([sentence]).to(device=self.device)\n",
        "        embedding_sent = self.clip.encode_text(sentence_tokens).to(self.device)\n",
        "\n",
        "        stable_features=process_stable_images(index, self.clip, self.device)\n",
        "\n",
        "        no_bbox=True\n",
        "        bbox_id = 0\n",
        "\n",
        "        for i in range(len(yolo_output.xyxy[0])):\n",
        "            if root != \"empty\" and self.yolo.names[int(yolo_output.pred[0][i][5])] != root:\n",
        "                continue\n",
        "            \n",
        "            no_bbox=False\n",
        "            img_cropped = crop_yolo(yolo_output, original_img, i)\n",
        "\n",
        "            img_cropped = padd_image(img_cropped)\n",
        "            img = self.preprocess(img_cropped).cuda().unsqueeze(0)\n",
        "            text = clip.tokenize([sentence]).cuda()\n",
        "\n",
        "            with torch.no_grad():\n",
        "                image_features = self.clip.encode_image(img).float()\n",
        "                text_features = self.clip.encode_text(text).float()\n",
        "\n",
        "                image_features /= image_features.norm(dim=-1, keepdim=True)\n",
        "                text_features /= text_features.norm(dim=-1, keepdim=True)\n",
        "                similarity_base = text_features.cpu().numpy() @ image_features.cpu().numpy().T\n",
        "\n",
        "                similarity_iti = stable_features.cpu().numpy() @ image_features.cpu().numpy().T\n",
        "                similarity_iti = similarity_iti.reshape(3, 1)\n",
        "\n",
        "                caption = self.captions.iloc[index][\"sentences\"][bbox_id]\n",
        "\n",
        "                caption = clear_caption(caption)\n",
        "                caption = clip.tokenize([caption]).to(device=self.device)\n",
        "                enbedding_gen = self.clip.encode_text(caption).to(self.device)\n",
        "\n",
        "                #cosine similarity bwteen caption and sentence\n",
        "                cos_sim=torch.nn.functional.cosine_similarity(enbedding_gen, embedding_sent)\n",
        "                \n",
        "                cos_sim_value = cos_sim.item()\n",
        "                similarity= 0.2*similarity_iti + 0.2* cos_sim_value+ 0,8* similarity_base\n",
        "\n",
        "                similarities.append(torch.tensor(similarity))\n",
        "\n",
        "                bboxes.append((yolo_output.xyxy[0][i][0].cpu().numpy(), yolo_output.xyxy[0][i][1].cpu().numpy(), yolo_output.xyxy[0][i][2].cpu().numpy(), yolo_output.xyxy[0][i][3].cpu().numpy()))\n",
        "            bbox_id+=1\n",
        "\n",
        "\n",
        "        if no_bbox:\n",
        "            similarities.append(torch.zeros(3,1))\n",
        "            max_bbox = [0, 0, original_img.width, original_img.height]\n",
        "            max_bbox = torch.tensor(max_bbox)\n",
        "            max_image = original_img\n",
        "            return max_bbox, max_image\n",
        "            \n",
        "        stacked_similarity = torch.cat(similarities, dim=1)\n",
        "        max_indices = torch.argmax(stacked_similarity, dim=1)\n",
        "        max_count = torch.bincount(max_indices)\n",
        "    \n",
        "        #parity case\n",
        "        if torch.max(max_count) == 1:\n",
        "          column_means = torch.mean(stacked_similarity, dim=0)\n",
        "          best_bbox = torch.argmax(column_means)\n",
        "        else:\n",
        "          best_bbox = torch.argmax(max_count)\n",
        "\n",
        "        \n",
        "        max_bbox_new = yolo_output.xyxy[0][best_bbox] \n",
        "        max_image_new = img_cropped = crop_yolo(yolo_output, original_img, best_bbox)\n",
        "\n",
        "        return max_bbox_new, max_image_new\n",
        "\n",
        "\n",
        "    def evaluate(self, img_path, sentence, gt, original_img, index):\n",
        "        bbox = convert_bbox(gt, original_img)\n",
        "        gt_crop = original_img.crop(bbox)\n",
        "        prediction_bbox, prediction_img = self.forward(img_path, sentence,index)\n",
        "        self.metrics.update(prediction_bbox, bbox, prediction_img, gt_crop)\n",
        "        return prediction_bbox, prediction_img\n",
        "\n",
        "    def reset_metrics(self):\n",
        "        self.metrics.reset()\n",
        "\n",
        "    def get_metrics(self):\n",
        "        return self.metrics.to_string()\n",
        "    \n",
        "    def save_metrics(self):\n",
        "        self.metrics.save()"
      ]
    },
    {
      "cell_type": "code",
      "execution_count": 75,
      "metadata": {},
      "outputs": [],
      "source": [
        "class VisualGrounding_base_mixed_optim(torch.nn.Module):\n",
        "    def __init__(self, yolo_version, clip_version, local_path, img_path):\n",
        "        super(VisualGrounding_base_mixed_optim, self).__init__()\n",
        "        self.device = torch.device('cuda' if torch.cuda.is_available() else 'cpu')\n",
        "        self.local_path = local_path\n",
        "        self.img_path = img_path\n",
        "\n",
        "        # initialize models\n",
        "        self.yolo = torch.hub.load('ultralytics/yolov5', yolo_version, pretrained=True)\n",
        "        self.clip, self.preprocess = clip.load(clip_version)\n",
        "\n",
        "        self.captions = load_dataframe(caption_json)\n",
        "        self.name = \"base_mixed\"\n",
        "        self.metrics = Metrics(self.clip, self.name)\n",
        "\n",
        "\n",
        "    def forward(self, img_path, sentence, index):\n",
        "        similarities = []\n",
        "        bboxes = []\n",
        "        max_image = None\n",
        "        max_bbox = None\n",
        "\n",
        "        yolo_output = self.yolo(self.local_path+img_path)\n",
        "\n",
        "        original_img = Image.open(self.local_path+img_path).convert(\"RGB\")\n",
        "\n",
        "        root = get_root(yolo_output, sentence, self.clip, self.yolo)\n",
        "        \n",
        "        sentence_tokens = clip.tokenize([sentence]).to(device=self.device)\n",
        "        embedding_sent = self.clip.encode_text(sentence_tokens).to(self.device)\n",
        "\n",
        "        stable_features=process_stable_images(index, self.clip, self.device)\n",
        "\n",
        "        no_bbox=True\n",
        "        bbox_id = 0\n",
        "        for i in range(len(yolo_output.xyxy[0])):\n",
        "            if root != \"empty\" and self.yolo.names[int(yolo_output.pred[0][i][5])] != root:\n",
        "                similarities.append(torch.zeros(3,1))\n",
        "                no_bbox=False\n",
        "                continue\n",
        "            \n",
        "            no_bbox=False\n",
        "            img_cropped = crop_yolo(yolo_output, original_img, i)\n",
        "\n",
        "            img_cropped = padd_image(img_cropped)\n",
        "            img = self.preprocess(img_cropped).cuda().unsqueeze(0)\n",
        "            text = clip.tokenize([sentence]).cuda()\n",
        "\n",
        "            with torch.no_grad():\n",
        "                image_features = self.clip.encode_image(img).float()\n",
        "                text_features = self.clip.encode_text(text).float()\n",
        "\n",
        "                image_features /= image_features.norm(dim=-1, keepdim=True)\n",
        "                text_features /= text_features.norm(dim=-1, keepdim=True)\n",
        "                similarity_base = text_features.cpu().numpy() @ image_features.cpu().numpy().T\n",
        "\n",
        "                similarity_iti = stable_features.cpu().numpy() @ image_features.cpu().numpy().T\n",
        "                similarity_iti = similarity_iti.reshape(3, 1)\n",
        "\n",
        "                \n",
        "                caption = self.captions.iloc[index][\"sentences\"][bbox_id]\n",
        "                caption = clear_caption(caption)\n",
        "                caption = clip.tokenize([caption]).to(device=self.device)\n",
        "                enbedding_gen = self.clip.encode_text(caption).to(self.device)\n",
        "\n",
        "                #cosine similarity bwteen caption and sentence\n",
        "                cos_sim=torch.nn.functional.cosine_similarity(enbedding_gen, embedding_sent)\n",
        "                \n",
        "                cos_sim_value = cos_sim.item()\n",
        "                similarity= 0.1*similarity_iti + 0.2* cos_sim_value + 0.7* similarity_base\n",
        "\n",
        "                similarities.append(torch.tensor(similarity))\n",
        "\n",
        "                bboxes.append((yolo_output.xyxy[0][i][0].cpu().numpy(), yolo_output.xyxy[0][i][1].cpu().numpy(), yolo_output.xyxy[0][i][2].cpu().numpy(), yolo_output.xyxy[0][i][3].cpu().numpy()))\n",
        "\n",
        "\n",
        "        if no_bbox:\n",
        "            similarities.append(torch.zeros(3,1))\n",
        "            max_bbox = [0, 0, original_img.width, original_img.height]\n",
        "            max_bbox = torch.tensor(max_bbox)\n",
        "            max_image = original_img\n",
        "            return max_bbox, max_image\n",
        "            \n",
        "        stacked_similarity = torch.cat(similarities, dim=1)\n",
        "        max_indices = torch.argmax(stacked_similarity, dim=1)\n",
        "        max_count = torch.bincount(max_indices)\n",
        "    \n",
        "        #parity case\n",
        "        if torch.max(max_count) == 1:\n",
        "          column_means = torch.mean(stacked_similarity, dim=0)\n",
        "          best_bbox = torch.argmax(column_means)\n",
        "        else:\n",
        "          best_bbox = torch.argmax(max_count)\n",
        "\n",
        "        \n",
        "        max_bbox_new = yolo_output.xyxy[0][best_bbox] \n",
        "        max_image_new = img_cropped = crop_yolo(yolo_output, original_img, best_bbox)\n",
        "\n",
        "        return max_bbox_new, max_image_new\n",
        "\n",
        "\n",
        "    def evaluate(self, img_path, sentence, gt, original_img, index):\n",
        "        bbox = convert_bbox(gt, original_img)\n",
        "        gt_crop = original_img.crop(bbox)\n",
        "        prediction_bbox, prediction_img = self.forward(img_path, sentence,index)\n",
        "        self.metrics.update(prediction_bbox, bbox, prediction_img, gt_crop)\n",
        "        return prediction_bbox, prediction_img\n",
        "\n",
        "    def reset_metrics(self):\n",
        "        self.metrics.reset()\n",
        "\n",
        "    def get_metrics(self):\n",
        "        return self.metrics.to_string()\n",
        "    \n",
        "    def save_metrics(self):\n",
        "        self.metrics.save()"
      ]
    },
    {
      "attachments": {},
      "cell_type": "markdown",
      "metadata": {
        "id": "IHcFXg1R0cgv"
      },
      "source": [
        "## Model evaluation and comparison\n"
      ]
    },
    {
      "cell_type": "code",
      "execution_count": null,
      "metadata": {},
      "outputs": [],
      "source": [
        "#dataset initialization\n",
        "dataset = Coco(local_annotations + 'instances.json', local_annotations + \"refs(umd).p\")"
      ]
    },
    {
      "attachments": {},
      "cell_type": "markdown",
      "metadata": {},
      "source": [
        "### Baseline"
      ]
    },
    {
      "cell_type": "code",
      "execution_count": 86,
      "metadata": {
        "colab": {
          "base_uri": "https://localhost:8080/"
        },
        "id": "YXTbixSEqcQe",
        "outputId": "98f1d75d-93ef-43ef-b4fb-c876dc0682bf"
      },
      "outputs": [
        {
          "name": "stderr",
          "output_type": "stream",
          "text": [
            "Using cache found in /home/pappol/.cache/torch/hub/ultralytics_yolov5_master\n",
            "YOLOv5 🚀 2023-5-25 Python-3.11.3 torch-2.0.1 CUDA:0 (NVIDIA GeForce RTX 3070 Ti, 7949MiB)\n",
            "\n",
            "Fusing layers... \n",
            "YOLOv5x summary: 444 layers, 86705005 parameters, 0 gradients\n",
            "Adding AutoShape... \n"
          ]
        }
      ],
      "source": [
        "# model load\n",
        "baseline = VisualGrounding_baseline('yolov5x', 'ViT-B/32', local_path, local_annotations)"
      ]
    },
    {
      "cell_type": "code",
      "execution_count": 87,
      "metadata": {},
      "outputs": [
        {
          "name": "stderr",
          "output_type": "stream",
          "text": [
            "100%|██████████| 4896/4896 [16:30<00:00,  4.94it/s]"
          ]
        },
        {
          "name": "stdout",
          "output_type": "stream",
          "text": [
            "Mean IoU: 0.5668, Recall@0.5 IoU: 0.5733, Mean Cosine Similarity: 0.8947, Mean Euclidean Distance: 4.3394\n"
          ]
        },
        {
          "name": "stderr",
          "output_type": "stream",
          "text": [
            "\n"
          ]
        }
      ],
      "source": [
        "validate(baseline, dataset.get_validation())"
      ]
    },
    {
      "cell_type": "code",
      "execution_count": null,
      "metadata": {},
      "outputs": [],
      "source": [
        "test_on_one_image(baseline, dataset.get_test(), 455)"
      ]
    },
    {
      "attachments": {},
      "cell_type": "markdown",
      "metadata": {},
      "source": [
        "### Stanza"
      ]
    },
    {
      "cell_type": "code",
      "execution_count": null,
      "metadata": {},
      "outputs": [
        {
          "name": "stderr",
          "output_type": "stream",
          "text": [
            "Using cache found in /home/pappol/.cache/torch/hub/ultralytics_yolov5_master\n",
            "YOLOv5 🚀 2023-5-25 Python-3.11.3 torch-2.0.1 CUDA:0 (NVIDIA GeForce RTX 3070 Ti, 7949MiB)\n",
            "\n",
            "Fusing layers... \n",
            "YOLOv5x summary: 444 layers, 86705005 parameters, 0 gradients\n",
            "Adding AutoShape... \n"
          ]
        }
      ],
      "source": [
        "stanza = VisualGrounding_stanza('yolov5x', 'ViT-B/32', local_path, local_annotations)"
      ]
    },
    {
      "cell_type": "code",
      "execution_count": null,
      "metadata": {},
      "outputs": [
        {
          "name": "stderr",
          "output_type": "stream",
          "text": [
            "100%|██████████| 4896/4896 [25:26<00:00,  3.21it/s]"
          ]
        },
        {
          "name": "stdout",
          "output_type": "stream",
          "text": [
            "Mean IoU: 0.5708, Recall@0.5 IoU: 0.5876, Mean Cosine Similarity: 0.8938, Mean Euclidean Distance: 4.3263\n"
          ]
        },
        {
          "name": "stderr",
          "output_type": "stream",
          "text": [
            "\n"
          ]
        }
      ],
      "source": [
        "validate(stanza, dataset.get_validation())"
      ]
    },
    {
      "cell_type": "code",
      "execution_count": null,
      "metadata": {},
      "outputs": [],
      "source": [
        "test_on_one_image(stanza, dataset.get_test(), 455)"
      ]
    },
    {
      "attachments": {},
      "cell_type": "markdown",
      "metadata": {},
      "source": [
        "### Text to text"
      ]
    },
    {
      "cell_type": "code",
      "execution_count": null,
      "metadata": {},
      "outputs": [
        {
          "name": "stderr",
          "output_type": "stream",
          "text": [
            "Using cache found in /home/pappol/.cache/torch/hub/ultralytics_yolov5_master\n",
            "YOLOv5 🚀 2023-5-25 Python-3.11.3 torch-2.0.1 CUDA:0 (NVIDIA GeForce RTX 3070 Ti, 7949MiB)\n",
            "\n",
            "Fusing layers... \n",
            "YOLOv5x summary: 444 layers, 86705005 parameters, 0 gradients\n",
            "Adding AutoShape... \n",
            "The following encoder weights were not tied to the decoder ['vision_encoder_decoder/pooler', 'vision_encoder_decoder/embeddings', 'vision_encoder_decoder/layernorm', 'vision_encoder_decoder/encoder']\n"
          ]
        }
      ],
      "source": [
        "text_to_text = VisualGrounding_ttt_optimized('yolov5x', 'ViT-B/32', local_path, local_annotations)"
      ]
    },
    {
      "cell_type": "code",
      "execution_count": null,
      "metadata": {},
      "outputs": [
        {
          "name": "stdout",
          "output_type": "stream",
          "text": [
            "Mean IoU: 0.3524, Recall@0.5 IoU: 0.3365, Mean Cosine Similarity: 0.8184, Mean Euclidean Distance: 5.8927\n"
          ]
        }
      ],
      "source": [
        "validate(text_to_text, dataset.get_validation())"
      ]
    },
    {
      "cell_type": "code",
      "execution_count": null,
      "metadata": {},
      "outputs": [
        {
          "ename": "NameError",
          "evalue": "name 'test_on_one_image' is not defined",
          "output_type": "error",
          "traceback": [
            "\u001b[0;31m---------------------------------------------------------------------------\u001b[0m",
            "\u001b[0;31mNameError\u001b[0m                                 Traceback (most recent call last)",
            "Cell \u001b[0;32mIn[1], line 3\u001b[0m\n\u001b[1;32m      1\u001b[0m \u001b[39m#test text to text model on one image\u001b[39;00m\n\u001b[0;32m----> 3\u001b[0m test_on_one_image(text_to_text, dataset\u001b[39m.\u001b[39mget_test(), \u001b[39m455\u001b[39m)\n",
            "\u001b[0;31mNameError\u001b[0m: name 'test_on_one_image' is not defined"
          ]
        }
      ],
      "source": [
        "#test text to text model on one image\n",
        "\n",
        "test_on_one_image(text_to_text, dataset.get_test(), 455)"
      ]
    },
    {
      "attachments": {},
      "cell_type": "markdown",
      "metadata": {},
      "source": [
        "### Stable diffusion"
      ]
    },
    {
      "attachments": {},
      "cell_type": "markdown",
      "metadata": {},
      "source": [
        "In addition to that, another reason we introduced Stable Diffusion in our model relates to one of the issues with the CLIP model: polysemy. At times, the CLIP model struggles to differentiate the meaning of certain words due to a lack of context. Some images in particular are labeled with only a class label and not a complete textual prompt. The authors provide an example using the Oxford-IIIT Pet dataset, where the word 'boxer' can refer to a dog breed, but in other images, it can be interpreted as a reference to an athlete.\n",
        "\n",
        "\n",
        "It is noticeable that due to the low quality of the images generated by Stable Diffusion, the bounding boxes with the highest similarity refer to different portions of the image, and not to the one we are actually seeking (in green).\n",
        "\n",
        "\n",
        "<img src= \"https://drive.google.com/uc?id=1Ve_ipDDYYtBbohb0YxDM4IjMNuwnPPCh\" style=\"width: 60%; margin-left: auto; margin-right: auto;\">\n",
        "\n",
        "\n",
        "After removing the bounding boxes whose class does not match the one selected with *STANZA*, it is possible to observe how the model is able to discriminate the correct one (similarity values on the left are higher), despite not achieving very high similarity values.\n",
        "\n",
        "<img src= \"https://drive.google.com/uc?id=1RyBHXGC_Z2389Kt1fQNTfi9XlJ3OLRyA\" style=\"width: 30%;\">\n",
        "\n",
        "\n",
        "As shown in the previous example, the generated images from stable diffusion are not always highly faithful to the provided captions. However, in cases where the generated images are more relevant, the following example demonstrates how the attention map of the vision transformer in CLIP is very similar for both images (the first one is taken from RefCOCOg while the second one has been generated using Stable Diiffusion using the provided caption). <br> In case like this, the similarity helps the model to discriminate the correct portion of the image.\n",
        "\n",
        "\n",
        "<img src= \"https://drive.google.com/uc?id=1bX7j37llDRfSW6w3LwrZJwq0hfG3S1GK\" style=\"width: 40%;\">\n",
        "\n"
      ]
    },
    {
      "cell_type": "code",
      "execution_count": null,
      "metadata": {},
      "outputs": [
        {
          "name": "stderr",
          "output_type": "stream",
          "text": [
            "Using cache found in /home/pappol/.cache/torch/hub/ultralytics_yolov5_master\n",
            "YOLOv5 🚀 2023-5-25 Python-3.11.3 torch-2.0.1 CUDA:0 (NVIDIA GeForce RTX 3070 Ti, 7949MiB)\n",
            "\n",
            "Fusing layers... \n",
            "YOLOv5x summary: 444 layers, 86705005 parameters, 0 gradients\n",
            "Adding AutoShape... \n"
          ]
        }
      ],
      "source": [
        "stable_model = VisualGrounding_stable_diffusion('yolov5x', 'ViT-B/32', local_path, local_annotations)"
      ]
    },
    {
      "cell_type": "code",
      "execution_count": null,
      "metadata": {},
      "outputs": [
        {
          "name": "stderr",
          "output_type": "stream",
          "text": [
            "100%|██████████| 4896/4896 [24:40<00:00,  3.31it/s]"
          ]
        },
        {
          "name": "stdout",
          "output_type": "stream",
          "text": [
            "Mean IoU: 0.4364, Recall@0.5 IoU: 0.4346, Mean Cosine Similarity: 0.8570, Mean Euclidean Distance: 5.1907\n"
          ]
        },
        {
          "name": "stderr",
          "output_type": "stream",
          "text": [
            "\n"
          ]
        }
      ],
      "source": [
        "validate(stable_model, dataset.get_validation())"
      ]
    },
    {
      "cell_type": "code",
      "execution_count": null,
      "metadata": {},
      "outputs": [],
      "source": [
        "test_on_one_image(stable_model, dataset.get_test(), 455)"
      ]
    },
    {
      "attachments": {},
      "cell_type": "markdown",
      "metadata": {},
      "source": [
        "### Mixed"
      ]
    },
    {
      "cell_type": "code",
      "execution_count": null,
      "metadata": {},
      "outputs": [
        {
          "name": "stderr",
          "output_type": "stream",
          "text": [
            "Using cache found in /home/pappol/.cache/torch/hub/ultralytics_yolov5_master\n",
            "YOLOv5 🚀 2023-5-25 Python-3.11.3 torch-2.0.1 CUDA:0 (NVIDIA GeForce RTX 3070 Ti, 7949MiB)\n",
            "\n",
            "Fusing layers... \n",
            "YOLOv5x summary: 444 layers, 86705005 parameters, 0 gradients\n",
            "Adding AutoShape... \n",
            "The following encoder weights were not tied to the decoder ['vision_encoder_decoder/embeddings', 'vision_encoder_decoder/layernorm', 'vision_encoder_decoder/pooler', 'vision_encoder_decoder/encoder']\n"
          ]
        }
      ],
      "source": [
        "mixed = VisualGrounding_mixed_optim('yolov5x', 'ViT-B/32', local_path, local_annotations)"
      ]
    },
    {
      "cell_type": "code",
      "execution_count": null,
      "metadata": {},
      "outputs": [],
      "source": [
        "validate(mixed, dataset.get_validation())"
      ]
    },
    {
      "cell_type": "code",
      "execution_count": null,
      "metadata": {},
      "outputs": [],
      "source": [
        "test_on_one_image(mixed, dataset.get_test(), 3832)"
      ]
    },
    {
      "attachments": {},
      "cell_type": "markdown",
      "metadata": {},
      "source": [
        "### Mixed plus"
      ]
    },
    {
      "cell_type": "code",
      "execution_count": null,
      "metadata": {},
      "outputs": [
        {
          "name": "stderr",
          "output_type": "stream",
          "text": [
            "Using cache found in /home/pappol/.cache/torch/hub/ultralytics_yolov5_master\n",
            "YOLOv5 🚀 2023-5-25 Python-3.11.3 torch-2.0.1 CUDA:0 (NVIDIA GeForce RTX 3070 Ti, 7949MiB)\n",
            "\n",
            "Fusing layers... \n",
            "YOLOv5x summary: 444 layers, 86705005 parameters, 0 gradients\n",
            "Adding AutoShape... \n"
          ]
        }
      ],
      "source": [
        "mixed_plus = VisualGrounding_base_mixed_optim('yolov5x', 'ViT-B/32', local_path, local_annotations)"
      ]
    },
    {
      "cell_type": "code",
      "execution_count": null,
      "metadata": {},
      "outputs": [
        {
          "name": "stderr",
          "output_type": "stream",
          "text": [
            "100%|██████████| 4896/4896 [33:10<00:00,  2.46it/s]"
          ]
        },
        {
          "name": "stdout",
          "output_type": "stream",
          "text": [
            "Mean IoU: 0.4907, Recall@0.5 IoU: 0.4957, Mean Cosine Similarity: 0.8728, Mean Euclidean Distance: 4.8257\n"
          ]
        },
        {
          "name": "stderr",
          "output_type": "stream",
          "text": [
            "\n"
          ]
        }
      ],
      "source": [
        "validate(mixed_plus, dataset.get_validation())"
      ]
    },
    {
      "cell_type": "code",
      "execution_count": null,
      "metadata": {},
      "outputs": [
        {
          "name": "stdout",
          "output_type": "stream",
          "text": [
            "Woman in black dress with scarf\n"
          ]
        },
        {
          "data": {
            "image/png": "[encoded data removed]",
            "text/plain": [
              "<Figure size 640x480 with 1 Axes>"
            ]
          },
          "metadata": {},
          "output_type": "display_data"
        },
        {
          "name": "stdout",
          "output_type": "stream",
          "text": [
            "Mean IoU: 0.9354, Recall@0.5 IoU: 1.0000, Mean Cosine Similarity: 0.9873, Mean Euclidean Distance: 1.7861\n"
          ]
        }
      ],
      "source": [
        "test_on_one_image(mixed_plus, dataset.get_validation(), 555)"
      ]
    },
    {
      "attachments": {},
      "cell_type": "markdown",
      "metadata": {},
      "source": [
        "# Conclusions"
      ]
    },
    {
      "attachments": {},
      "cell_type": "markdown",
      "metadata": {},
      "source": [
        "\n",
        "<img src= \"https://drive.google.com/uc?id=1RfedyG98_ixhjmNm1cg2FOIGWywilSqi\" style=\"width: 80%;\">\n"
      ]
    }
  ],
  "metadata": {
    "accelerator": "GPU",
    "colab": {
      "gpuType": "T4",
      "provenance": []
    },
    "gpuClass": "standard",
    "kernelspec": {
      "display_name": "Python 3",
      "name": "python3"
    },
    "language_info": {
      "codemirror_mode": {
        "name": "ipython",
        "version": 3
      },
      "file_extension": ".py",
      "mimetype": "text/x-python",
      "name": "python",
      "nbconvert_exporter": "python",
      "pygments_lexer": "ipython3",
      "version": "3.11.3"
    },
    "orig_nbformat": 4
  },
  "nbformat": 4,
  "nbformat_minor": 0
}
