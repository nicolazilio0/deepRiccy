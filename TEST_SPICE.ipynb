{
  "nbformat": 4,
  "nbformat_minor": 0,
  "metadata": {
    "colab": {
      "provenance": [],
      "authorship_tag": "ABX9TyNcWvjZqbXXUPOJBwZ43wrI",
      "include_colab_link": true
    },
    "kernelspec": {
      "name": "python3",
      "display_name": "Python 3"
    },
    "language_info": {
      "name": "python"
    }
  },
  "cells": [
    {
      "cell_type": "markdown",
      "metadata": {
        "id": "view-in-github",
        "colab_type": "text"
      },
      "source": [
        "<a href=\"https://colab.research.google.com/github/nicolazilio0/deepRiccy/blob/main/TEST_SPICE.ipynb\" target=\"_parent\"><img src=\"https://colab.research.google.com/assets/colab-badge.svg\" alt=\"Open In Colab\"/></a>"
      ]
    },
    {
      "cell_type": "code",
      "source": [
        "#### SPICE EVALUATION\n",
        "!pip install git+https://github.com/salaniz/pycocoevalcap.git\n",
        "\n",
        "from pycocoevalcap.spice.spice import Spice\n",
        "candidate = {\"1\": [\"a man is speaking\"]}\n",
        "reference = {\"1\": [\"a man speaks.\"]}\n",
        "\n",
        "scorer = Spice()\n",
        "score, _ = scorer.compute_score(reference, candidate)\n",
        "\n",
        "print(\"SPICE score:\", score)"
      ],
      "metadata": {
        "id": "SWcKKdVntfUJ"
      },
      "execution_count": 56,
      "outputs": []
    }
  ]
}