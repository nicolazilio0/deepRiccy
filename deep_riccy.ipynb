{
  "cells": [
    {
      "cell_type": "markdown",
      "metadata": {
        "id": "YOvgNpY7LwSU"
      },
      "source": [
        "## Deep riccy project"
      ]
    },
    {
      "cell_type": "code",
      "execution_count": 1,
      "metadata": {
        "colab": {
          "base_uri": "https://localhost:8080/"
        },
        "id": "vd2FccpXL6WE",
        "outputId": "9fac43a8-a985-441f-c5fc-88e8efb1385c"
      },
      "outputs": [
        {
          "name": "stdout",
          "output_type": "stream",
          "text": [
            "Mounted at /content/drive\n"
          ]
        }
      ],
      "source": [
        "from google.colab import drive\n",
        "drive.mount('/content/drive')"
      ]
    },
    {
      "cell_type": "code",
      "execution_count": null,
      "metadata": {
        "id": "pyIe9EVpLwSW"
      },
      "outputs": [],
      "source": [
        "! tar -zxvf /content/drive/MyDrive/Uni/DeepRiccy/refcocog.tar.gz"
      ]
    },
    {
      "cell_type": "code",
      "execution_count": 2,
      "metadata": {},
      "outputs": [],
      "source": [
        "#set local path to the data\n",
        "\n",
        "#this is for colab\n",
        "#local_path = '/content/refcocog/images/'\n",
        "#local_annotations = '/content/refcocog/annotations/'\n",
        "\n",
        "#this is for local\n",
        "local_path = './refcocog/images/' \n",
        "local_annotations = './refcocog/annotations/' "
      ]
    },
    {
      "cell_type": "code",
      "execution_count": 3,
      "metadata": {},
      "outputs": [],
      "source": [
        "#import section\n",
        "import json\n",
        "import pickle\n",
        "import torch\n",
        "from PIL import Image\n",
        "from torch.utils.data import Dataset"
      ]
    },
    {
      "cell_type": "code",
      "execution_count": 2,
      "metadata": {},
      "outputs": [],
      "source": [
        "#class creation for the items\n",
        "class CocogImage():\n",
        "    def __init__(self, id, json_file, referece):\n",
        "        self.id = id\n",
        "        self.data = json_file['images'][id]\n",
        "        self.bboxes = []\n",
        "        for i in json_file:\n",
        "            if i['image_id'] == self.id:\n",
        "                self.bboxes.append(i)\n",
        "        self.annotations = []\n",
        "        \n",
        "        for i in referece:\n",
        "            if i['image_id'] == self.id:\n",
        "                self.annotations.append(i)\n",
        "\n",
        "\n",
        "    \n",
        "    def get_image(self, transform = transforms.Compose([transforms.PILToTensor()])):\n",
        "        img = Image.open(local_path + self.data['file_name'])\n",
        "        return transform(img)\n",
        "    \n",
        "    def id(self):\n",
        "        return self.data['id']\n",
        "\n",
        "    def width(self):\n",
        "        return self.data['width']\n",
        "\n",
        "    def height(self):\n",
        "        return self.data['height']\n",
        "\n",
        "    def bbox(self):\n",
        "        return self.bboxes\n",
        "    \n",
        "    def annotations(self):\n",
        "        return self.annotations"
      ]
    },
    {
      "attachments": {},
      "cell_type": "markdown",
      "metadata": {},
      "source": [
        "{\"license\": 1, \n",
        "\"file_name\": \"COCO_train2014_000000262528.jpg\",\n",
        "\"coco_url\": \"http://mscoco.org/images/262528\", \n",
        "\"height\": 480, \n",
        "\"width\": 318, \n",
        "\"date_captured\": \"2013-11-19 19:02:15\", \n",
        "\"flickr_url\": \"http://farm8.staticflickr.com/7271/7135360435_bcc00e3f5f_z.jpg\", \n",
        "\"id\": 262528}\n",
        "\n",
        "{\"segmentation\": [[116.81, 102.77, 121.15, 95.96, 114.95, 54.45, 111.24, 33.7, 119.29, 9.34, 129.82, 3.45, 135.4, 0.04, 156.47, 0.27, 153.27, 3.3, 155.4, 5.51, 158.02, 5.83, 159.82, 8.04, 161.05, 8.21, 166.29, 15.49, 168.34, 21.22, 168.25, 25.23, 172.1, 36.82, 170.22, 39.36, 170.38, 44.84, 175.21, 54.22, 175.79, 64.53, 176.36, 68.05, 177.83, 84.14, 178.24, 97.86, 174.72, 100.8, 170.38, 100.47, 169.89, 97.94, 172.35, 95.97, 172.59, 93.43, 171.37, 91.8, 171.86, 95.64, 168.42, 96.71, 167.44, 97.77, 166.45, 105.71, 164.49, 110.87, 162.36, 119.35, 163.02, 127.86, 160.23, 131.54, 158.84, 137.73, 159.74, 142.31, 161.46, 145.67, 161.05, 151.15, 161.18, 168.79, 156.33, 172.25, 145.08, 167.75, 133.32, 165.85, 124.32, 164.12, 126.05, 154.95, 122.76, 142.49, 123.63, 134.7, 124.49, 127.09, 120.34, 127.61, 115.49, 124.49, 114.8, 119.82, 115.01, 115.03, 115.71, 112.35, 116.79, 111.46, 113.35, 111.01, 112.2, 109.04, 114.82, 102.26]],\n",
        "\"area\": 8243.56785, \n",
        "\"iscrowd\": 0, \n",
        "\"image_id\": 191327, \n",
        "\"bbox\": [111.24, 0.04, 67.0, 172.21], \n",
        "\"category_id\": 1, \n",
        "\"id\": 197178}, "
      ]
    },
    {
      "cell_type": "code",
      "execution_count": 37,
      "metadata": {
        "colab": {
          "base_uri": "https://localhost:8080/"
        },
        "id": "sl3AHk-xMSG6",
        "outputId": "2fbc378a-608a-4ad2-e788-579459aba5db"
      },
      "outputs": [],
      "source": [
        "class Coco(Dataset):\n",
        "  def __init__(self, size):\n",
        "    super(Coco, self).__init__()\n",
        "    self.size = size\n",
        "    #load json file\n",
        "    with open(local_annotations + 'instances.json', 'r') as f:\n",
        "      self.data = json.load(f)\n",
        "    #load references(umd)\n",
        "    with open(local_annotations + 'refs(umd).p', 'rb') as f:\n",
        "      self.references = pickle.load(f)\n",
        "      f.close()\n",
        "    #load references(google)\n",
        "    with open(local_annotations + 'refs(google).p', 'rb') as f:\n",
        "      self.references_google = pickle.load(f)\n",
        "      f.close()\n",
        "    \n",
        "    \n",
        "  def __getitem__(self, idx):\n",
        "    if idx >= self.size:\n",
        "      raise IndexError()\n",
        "    #import image form json\n",
        "    image = CocogImage(idx, self.data, self.references)\n",
        "    \n",
        "    return image.get_image(), image.bbox(), image.annotations()\n",
        "\n",
        "  def __len__(self):\n",
        "    return self.size\n"
      ]
    }
  ],
  "metadata": {
    "colab": {
      "provenance": []
    },
    "gpuClass": "standard",
    "kernelspec": {
      "display_name": "Python 3",
      "name": "python3"
    },
    "language_info": {
      "codemirror_mode": {
        "name": "ipython",
        "version": 3
      },
      "file_extension": ".py",
      "mimetype": "text/x-python",
      "name": "python",
      "nbconvert_exporter": "python",
      "pygments_lexer": "ipython3",
      "version": "3.10.6"
    },
    "orig_nbformat": 4
  },
  "nbformat": 4,
  "nbformat_minor": 0
}
